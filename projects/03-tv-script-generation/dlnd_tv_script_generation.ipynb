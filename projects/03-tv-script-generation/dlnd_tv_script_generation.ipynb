{
 "cells": [
  {
   "cell_type": "markdown",
   "metadata": {
    "deletable": true,
    "editable": true
   },
   "source": [
    "# TV Script Generation\n",
    "In this project, you'll generate your own [Simpsons](https://en.wikipedia.org/wiki/The_Simpsons) TV scripts using RNNs.  You'll be using part of the [Simpsons dataset](https://www.kaggle.com/wcukierski/the-simpsons-by-the-data) of scripts from 27 seasons.  The Neural Network you'll build will generate a new TV script for a scene at [Moe's Tavern](https://simpsonswiki.com/wiki/Moe's_Tavern).\n",
    "## Get the Data\n",
    "The data is already provided for you.  You'll be using a subset of the original dataset.  It consists of only the scenes in Moe's Tavern.  This doesn't include other versions of the tavern, like \"Moe's Cavern\", \"Flaming Moe's\", \"Uncle Moe's Family Feed-Bag\", etc.."
   ]
  },
  {
   "cell_type": "code",
   "execution_count": 1,
   "metadata": {
    "collapsed": false,
    "deletable": true,
    "editable": true
   },
   "outputs": [],
   "source": [
    "\"\"\"\n",
    "DON'T MODIFY ANYTHING IN THIS CELL\n",
    "\"\"\"\n",
    "import helper\n",
    "\n",
    "data_dir = './data/simpsons/moes_tavern_lines.txt'\n",
    "text = helper.load_data(data_dir)\n",
    "# Ignore notice, since we don't use it for analysing the data\n",
    "text = text[81:]"
   ]
  },
  {
   "cell_type": "markdown",
   "metadata": {
    "deletable": true,
    "editable": true
   },
   "source": [
    "## Explore the Data\n",
    "Play around with `view_sentence_range` to view different parts of the data."
   ]
  },
  {
   "cell_type": "code",
   "execution_count": 2,
   "metadata": {
    "collapsed": false,
    "deletable": true,
    "editable": true
   },
   "outputs": [
    {
     "name": "stdout",
     "output_type": "stream",
     "text": [
      "Dataset Stats\n",
      "Roughly the number of unique words: 11492\n",
      "Number of scenes: 262\n",
      "Average number of sentences in each scene: 15.248091603053435\n",
      "Number of lines: 4257\n",
      "Average number of words in each line: 11.50434578341555\n",
      "\n",
      "The sentences 0 to 10:\n",
      "Moe_Szyslak: (INTO PHONE) Moe's Tavern. Where the elite meet to drink.\n",
      "Bart_Simpson: Eh, yeah, hello, is Mike there? Last name, Rotch.\n",
      "Moe_Szyslak: (INTO PHONE) Hold on, I'll check. (TO BARFLIES) Mike Rotch. Mike Rotch. Hey, has anybody seen Mike Rotch, lately?\n",
      "Moe_Szyslak: (INTO PHONE) Listen you little puke. One of these days I'm gonna catch you, and I'm gonna carve my name on your back with an ice pick.\n",
      "Moe_Szyslak: What's the matter Homer? You're not your normal effervescent self.\n",
      "Homer_Simpson: I got my problems, Moe. Give me another one.\n",
      "Moe_Szyslak: Homer, hey, you should not drink to forget your problems.\n",
      "Barney_Gumble: Yeah, you should only drink to enhance your social skills.\n",
      "\n",
      "\n"
     ]
    }
   ],
   "source": [
    "view_sentence_range = (0, 10)\n",
    "\n",
    "\"\"\"\n",
    "DON'T MODIFY ANYTHING IN THIS CELL\n",
    "\"\"\"\n",
    "import numpy as np\n",
    "\n",
    "print('Dataset Stats')\n",
    "print('Roughly the number of unique words: {}'.format(len({word: None for word in text.split()})))\n",
    "scenes = text.split('\\n\\n')\n",
    "print('Number of scenes: {}'.format(len(scenes)))\n",
    "sentence_count_scene = [scene.count('\\n') for scene in scenes]\n",
    "print('Average number of sentences in each scene: {}'.format(np.average(sentence_count_scene)))\n",
    "\n",
    "sentences = [sentence for scene in scenes for sentence in scene.split('\\n')]\n",
    "print('Number of lines: {}'.format(len(sentences)))\n",
    "word_count_sentence = [len(sentence.split()) for sentence in sentences]\n",
    "print('Average number of words in each line: {}'.format(np.average(word_count_sentence)))\n",
    "\n",
    "print()\n",
    "print('The sentences {} to {}:'.format(*view_sentence_range))\n",
    "print('\\n'.join(text.split('\\n')[view_sentence_range[0]:view_sentence_range[1]]))"
   ]
  },
  {
   "cell_type": "markdown",
   "metadata": {
    "deletable": true,
    "editable": true
   },
   "source": [
    "## Implement Preprocessing Functions\n",
    "The first thing to do to any dataset is preprocessing.  Implement the following preprocessing functions below:\n",
    "- Lookup Table\n",
    "- Tokenize Punctuation\n",
    "\n",
    "### Lookup Table\n",
    "To create a word embedding, you first need to transform the words to ids.  In this function, create two dictionaries:\n",
    "- Dictionary to go from the words to an id, we'll call `vocab_to_int`\n",
    "- Dictionary to go from the id to word, we'll call `int_to_vocab`\n",
    "\n",
    "Return these dictionaries in the following tuple `(vocab_to_int, int_to_vocab)`"
   ]
  },
  {
   "cell_type": "code",
   "execution_count": 3,
   "metadata": {
    "collapsed": false,
    "deletable": true,
    "editable": true
   },
   "outputs": [
    {
     "name": "stdout",
     "output_type": "stream",
     "text": [
      "Tests Passed\n"
     ]
    }
   ],
   "source": [
    "import numpy as np\n",
    "import problem_unittests as tests\n",
    "\n",
    "def create_lookup_tables(text):\n",
    "    \"\"\"\n",
    "    Create lookup tables for vocabulary\n",
    "    :param text: The text of tv scripts split into words\n",
    "    :return: A tuple of dicts (vocab_to_int, int_to_vocab)\n",
    "    \"\"\"\n",
    "    words = set(text)\n",
    "    vocab_to_int = dict(zip(words, range(len(words))))\n",
    "    int_to_vocab = {idx: word for (word, idx) in vocab_to_int.items()}\n",
    "    return vocab_to_int, int_to_vocab\n",
    "\n",
    "\n",
    "\"\"\"\n",
    "DON'T MODIFY ANYTHING IN THIS CELL THAT IS BELOW THIS LINE\n",
    "\"\"\"\n",
    "tests.test_create_lookup_tables(create_lookup_tables)"
   ]
  },
  {
   "cell_type": "markdown",
   "metadata": {
    "deletable": true,
    "editable": true
   },
   "source": [
    "### Tokenize Punctuation\n",
    "We'll be splitting the script into a word array using spaces as delimiters.  However, punctuations like periods and exclamation marks make it hard for the neural network to distinguish between the word \"bye\" and \"bye!\".\n",
    "\n",
    "Implement the function `token_lookup` to return a dict that will be used to tokenize symbols like \"!\" into \"||Exclamation_Mark||\".  Create a dictionary for the following symbols where the symbol is the key and value is the token:\n",
    "- Period ( . )\n",
    "- Comma ( , )\n",
    "- Quotation Mark ( \" )\n",
    "- Semicolon ( ; )\n",
    "- Exclamation mark ( ! )\n",
    "- Question mark ( ? )\n",
    "- Left Parentheses ( ( )\n",
    "- Right Parentheses ( ) )\n",
    "- Dash ( -- )\n",
    "- Return ( \\n )\n",
    "\n",
    "This dictionary will be used to token the symbols and add the delimiter (space) around it.  This separates the symbols as it's own word, making it easier for the neural network to predict on the next word. Make sure you don't use a token that could be confused as a word. Instead of using the token \"dash\", try using something like \"||dash||\"."
   ]
  },
  {
   "cell_type": "code",
   "execution_count": 4,
   "metadata": {
    "collapsed": false,
    "deletable": true,
    "editable": true
   },
   "outputs": [
    {
     "name": "stdout",
     "output_type": "stream",
     "text": [
      "Tests Passed\n"
     ]
    }
   ],
   "source": [
    "def token_lookup():\n",
    "    \"\"\"\n",
    "    Generate a dict to turn punctuation into a token.\n",
    "    :return: Tokenize dictionary where the key is the punctuation and the value is the token\n",
    "    \"\"\"\n",
    "    return {\n",
    "        '.':  '||period||',\n",
    "        ',':  '||comma||',\n",
    "        '\"':  '||quotation_mark||',\n",
    "        ';':  '||semicolon||',\n",
    "        '!':  '||exclamation_mark||',\n",
    "        '?':  '||question_mark||',\n",
    "        '(':  '||left_paren||',\n",
    "        ')':  '||right_paren||',\n",
    "        '--': '||dash||',\n",
    "        '\\n': '||newline||'\n",
    "    }\n",
    "\n",
    "\"\"\"\n",
    "DON'T MODIFY ANYTHING IN THIS CELL THAT IS BELOW THIS LINE\n",
    "\"\"\"\n",
    "tests.test_tokenize(token_lookup)"
   ]
  },
  {
   "cell_type": "markdown",
   "metadata": {
    "deletable": true,
    "editable": true
   },
   "source": [
    "## Preprocess all the data and save it\n",
    "Running the code cell below will preprocess all the data and save it to file."
   ]
  },
  {
   "cell_type": "code",
   "execution_count": 5,
   "metadata": {
    "collapsed": false,
    "deletable": true,
    "editable": true
   },
   "outputs": [],
   "source": [
    "\"\"\"\n",
    "DON'T MODIFY ANYTHING IN THIS CELL\n",
    "\"\"\"\n",
    "# Preprocess Training, Validation, and Testing Data\n",
    "helper.preprocess_and_save_data(data_dir, token_lookup, create_lookup_tables)"
   ]
  },
  {
   "cell_type": "markdown",
   "metadata": {
    "deletable": true,
    "editable": true
   },
   "source": [
    "# Check Point\n",
    "This is your first checkpoint. If you ever decide to come back to this notebook or have to restart the notebook, you can start from here. The preprocessed data has been saved to disk."
   ]
  },
  {
   "cell_type": "code",
   "execution_count": 6,
   "metadata": {
    "collapsed": false,
    "deletable": true,
    "editable": true
   },
   "outputs": [],
   "source": [
    "\"\"\"\n",
    "DON'T MODIFY ANYTHING IN THIS CELL\n",
    "\"\"\"\n",
    "import helper\n",
    "import numpy as np\n",
    "import problem_unittests as tests\n",
    "\n",
    "int_text, vocab_to_int, int_to_vocab, token_dict = helper.load_preprocess()"
   ]
  },
  {
   "cell_type": "markdown",
   "metadata": {
    "deletable": true,
    "editable": true
   },
   "source": [
    "## Build the Neural Network\n",
    "You'll build the components necessary to build a RNN by implementing the following functions below:\n",
    "- get_inputs\n",
    "- get_init_cell\n",
    "- get_embed\n",
    "- build_rnn\n",
    "- build_nn\n",
    "- get_batches\n",
    "\n",
    "### Check the Version of TensorFlow and Access to GPU"
   ]
  },
  {
   "cell_type": "code",
   "execution_count": 7,
   "metadata": {
    "collapsed": false
   },
   "outputs": [
    {
     "name": "stdout",
     "output_type": "stream",
     "text": [
      "TensorFlow Version: 1.0.0\n",
      "Default GPU Device: /gpu:0\n"
     ]
    }
   ],
   "source": [
    "\"\"\"\n",
    "DON'T MODIFY ANYTHING IN THIS CELL\n",
    "\"\"\"\n",
    "from distutils.version import LooseVersion\n",
    "import warnings\n",
    "import tensorflow as tf\n",
    "\n",
    "# Check TensorFlow Version\n",
    "assert LooseVersion(tf.__version__) >= LooseVersion('1.0'), 'Please use TensorFlow version 1.0 or newer'\n",
    "print('TensorFlow Version: {}'.format(tf.__version__))\n",
    "\n",
    "# Check for a GPU\n",
    "if not tf.test.gpu_device_name():\n",
    "    warnings.warn('No GPU found. Please use a GPU to train your neural network.')\n",
    "else:\n",
    "    print('Default GPU Device: {}'.format(tf.test.gpu_device_name()))"
   ]
  },
  {
   "cell_type": "markdown",
   "metadata": {},
   "source": [
    "### Input\n",
    "Implement the `get_inputs()` function to create TF Placeholders for the Neural Network.  It should create the following placeholders:\n",
    "- Input text placeholder named \"input\" using the [TF Placeholder](https://www.tensorflow.org/api_docs/python/tf/placeholder) `name` parameter.\n",
    "- Targets placeholder\n",
    "- Learning Rate placeholder\n",
    "\n",
    "Return the placeholders in the following the tuple `(Input, Targets, LearingRate)`"
   ]
  },
  {
   "cell_type": "code",
   "execution_count": 8,
   "metadata": {
    "collapsed": false,
    "deletable": true,
    "editable": true
   },
   "outputs": [
    {
     "name": "stdout",
     "output_type": "stream",
     "text": [
      "Tests Passed\n"
     ]
    }
   ],
   "source": [
    "def get_inputs():\n",
    "    \"\"\"\n",
    "    Create TF Placeholders for input, targets, and learning rate.\n",
    "    :return: Tuple (input, targets, learning rate)\n",
    "    \"\"\"\n",
    "    input = tf.placeholder(tf.int32, [None, None], name=\"input\")\n",
    "    targets = tf.placeholder(tf.int32, [None, None], name=\"targets\")\n",
    "    learning_rate = tf.placeholder(tf.float32, [], name=\"learning_rate\")\n",
    "    return input, targets, learning_rate\n",
    "\n",
    "\n",
    "\"\"\"\n",
    "DON'T MODIFY ANYTHING IN THIS CELL THAT IS BELOW THIS LINE\n",
    "\"\"\"\n",
    "tests.test_get_inputs(get_inputs)"
   ]
  },
  {
   "cell_type": "markdown",
   "metadata": {
    "deletable": true,
    "editable": true
   },
   "source": [
    "### Build RNN Cell and Initialize\n",
    "Stack one or more [`BasicLSTMCells`](https://www.tensorflow.org/api_docs/python/tf/contrib/rnn/BasicLSTMCell) in a [`MultiRNNCell`](https://www.tensorflow.org/api_docs/python/tf/contrib/rnn/MultiRNNCell).\n",
    "- The Rnn size should be set using `rnn_size`\n",
    "- Initalize Cell State using the MultiRNNCell's [`zero_state()`](https://www.tensorflow.org/api_docs/python/tf/contrib/rnn/MultiRNNCell#zero_state) function\n",
    "    - Apply the name \"initial_state\" to the initial state using [`tf.identity()`](https://www.tensorflow.org/api_docs/python/tf/identity)\n",
    "\n",
    "Return the cell and initial state in the following tuple `(Cell, InitialState)`"
   ]
  },
  {
   "cell_type": "code",
   "execution_count": 9,
   "metadata": {
    "collapsed": false,
    "deletable": true,
    "editable": true
   },
   "outputs": [
    {
     "name": "stdout",
     "output_type": "stream",
     "text": [
      "Tests Passed\n"
     ]
    }
   ],
   "source": [
    "def get_init_cell(batch_size, rnn_size, rnn_layers=1):\n",
    "    \"\"\"\n",
    "    Create an RNN Cell and initialize it.\n",
    "    :param batch_size: Size of batches\n",
    "    :param rnn_size: Size of RNNs\n",
    "    :return: Tuple (cell, initialize state)\n",
    "    \"\"\"\n",
    "    rnn = tf.contrib.rnn.BasicLSTMCell(rnn_size)\n",
    "    cell = tf.contrib.rnn.MultiRNNCell([rnn] * rnn_layers)\n",
    "    initial_state = tf.identity(cell.zero_state(batch_size, tf.float32), name=\"initial_state\")\n",
    "    return cell, initial_state\n",
    "\n",
    "\n",
    "\"\"\"\n",
    "DON'T MODIFY ANYTHING IN THIS CELL THAT IS BELOW THIS LINE\n",
    "\"\"\"\n",
    "tests.test_get_init_cell(get_init_cell)"
   ]
  },
  {
   "cell_type": "markdown",
   "metadata": {
    "deletable": true,
    "editable": true
   },
   "source": [
    "### Word Embedding\n",
    "Apply embedding to `input_data` using TensorFlow.  Return the embedded sequence."
   ]
  },
  {
   "cell_type": "code",
   "execution_count": 10,
   "metadata": {
    "collapsed": false,
    "deletable": true,
    "editable": true
   },
   "outputs": [
    {
     "name": "stdout",
     "output_type": "stream",
     "text": [
      "Tests Passed\n"
     ]
    }
   ],
   "source": [
    "def get_embed(input_data, vocab_size, embed_dim):\n",
    "    \"\"\"\n",
    "    Create embedding for <input_data>.\n",
    "    :param input_data: TF placeholder for text input.\n",
    "    :param vocab_size: Number of words in vocabulary.\n",
    "    :param embed_dim: Number of embedding dimensions\n",
    "    :return: Embedded input.\n",
    "    \"\"\"\n",
    "    embedding = tf.Variable(tf.random_uniform((vocab_size, embed_dim), -1, 1), name=\"embedding\")\n",
    "    return tf.nn.embedding_lookup(embedding, input_data)\n",
    "\n",
    "\n",
    "\"\"\"\n",
    "DON'T MODIFY ANYTHING IN THIS CELL THAT IS BELOW THIS LINE\n",
    "\"\"\"\n",
    "tests.test_get_embed(get_embed)"
   ]
  },
  {
   "cell_type": "markdown",
   "metadata": {
    "deletable": true,
    "editable": true
   },
   "source": [
    "### Build RNN\n",
    "You created a RNN Cell in the `get_init_cell()` function.  Time to use the cell to create a RNN.\n",
    "- Build the RNN using the [`tf.nn.dynamic_rnn()`](https://www.tensorflow.org/api_docs/python/tf/nn/dynamic_rnn)\n",
    " - Apply the name \"final_state\" to the final state using [`tf.identity()`](https://www.tensorflow.org/api_docs/python/tf/identity)\n",
    "\n",
    "Return the outputs and final_state state in the following tuple `(Outputs, FinalState)` "
   ]
  },
  {
   "cell_type": "code",
   "execution_count": 11,
   "metadata": {
    "collapsed": false,
    "deletable": true,
    "editable": true
   },
   "outputs": [
    {
     "name": "stdout",
     "output_type": "stream",
     "text": [
      "Tests Passed\n"
     ]
    }
   ],
   "source": [
    "def build_rnn(cell, inputs):\n",
    "    \"\"\"\n",
    "    Create a RNN using a RNN Cell\n",
    "    :param cell: RNN Cell\n",
    "    :param inputs: Input text data\n",
    "    :return: Tuple (Outputs, Final State)\n",
    "    \"\"\"\n",
    "    outputs, final_state = tf.nn.dynamic_rnn(cell, inputs, dtype=tf.float32)\n",
    "    named_final_state = tf.identity(final_state, name=\"final_state\")\n",
    "    return outputs, named_final_state\n",
    "\n",
    "\n",
    "\"\"\"\n",
    "DON'T MODIFY ANYTHING IN THIS CELL THAT IS BELOW THIS LINE\n",
    "\"\"\"\n",
    "tests.test_build_rnn(build_rnn)"
   ]
  },
  {
   "cell_type": "markdown",
   "metadata": {
    "deletable": true,
    "editable": true
   },
   "source": [
    "### Build the Neural Network\n",
    "Apply the functions you implemented above to:\n",
    "- Apply embedding to `input_data` using your `get_embed(input_data, vocab_size, embed_dim)` function.\n",
    "- Build RNN using `cell` and your `build_rnn(cell, inputs)` function.\n",
    "- Apply a fully connected layer with a linear activation and `vocab_size` as the number of outputs.\n",
    "\n",
    "Return the logits and final state in the following tuple (Logits, FinalState) "
   ]
  },
  {
   "cell_type": "code",
   "execution_count": 12,
   "metadata": {
    "collapsed": false,
    "deletable": true,
    "editable": true
   },
   "outputs": [
    {
     "name": "stdout",
     "output_type": "stream",
     "text": [
      "Tests Passed\n"
     ]
    }
   ],
   "source": [
    "def build_nn(cell, rnn_size, input_data, vocab_size, embed_dim=100):\n",
    "    \"\"\"\n",
    "    Build part of the neural network\n",
    "    :param cell: RNN cell\n",
    "    :param rnn_size: Size of rnns\n",
    "    :param input_data: Input data\n",
    "    :param vocab_size: Vocabulary size\n",
    "    :return: Tuple (Logits, FinalState)\n",
    "    \"\"\"\n",
    "    embedded_input = get_embed(input_data, vocab_size, embed_dim)\n",
    "    rnn_outputs, final_state = build_rnn(cell, embedded_input)\n",
    "    logits = tf.contrib.layers.fully_connected(rnn_outputs, vocab_size)\n",
    "    return logits, final_state\n",
    "\n",
    "\n",
    "\"\"\"\n",
    "DON'T MODIFY ANYTHING IN THIS CELL THAT IS BELOW THIS LINE\n",
    "\"\"\"\n",
    "tests.test_build_nn(build_nn)"
   ]
  },
  {
   "cell_type": "markdown",
   "metadata": {
    "deletable": true,
    "editable": true
   },
   "source": [
    "### Batches\n",
    "Implement `get_batches` to create batches of input and targets using `int_text`.  The batches should be a Numpy array with the shape `(number of batches, 2, batch size, sequence length)`. Each batch contains two elements:\n",
    "- The first element is a single batch of **input** with the shape `[batch size, sequence length]`\n",
    "- The second element is a single batch of **targets** with the shape `[batch size, sequence length]`\n",
    "\n",
    "If you can't fill the last batch with enough data, drop the last batch.\n",
    "\n",
    "For exmple, `get_batches([1, 2, 3, 4, 5, 6, 7, 8, 9, 10, 11, 12, 13, 14, 15], 2, 3)` would return a Numpy array of the following:\n",
    "```\n",
    "[\n",
    "  # First Batch\n",
    "  [\n",
    "    # Batch of Input\n",
    "    [[ 1  2  3], [ 7  8  9]],\n",
    "    # Batch of targets\n",
    "    [[ 2  3  4], [ 8  9 10]]\n",
    "  ],\n",
    " \n",
    "  # Second Batch\n",
    "  [\n",
    "    # Batch of Input\n",
    "    [[ 4  5  6], [10 11 12]],\n",
    "    # Batch of targets\n",
    "    [[ 5  6  7], [11 12 13]]\n",
    "  ]\n",
    "]\n",
    "```"
   ]
  },
  {
   "cell_type": "code",
   "execution_count": 13,
   "metadata": {
    "collapsed": false,
    "deletable": true,
    "editable": true
   },
   "outputs": [
    {
     "name": "stdout",
     "output_type": "stream",
     "text": [
      "Tests Passed\n"
     ]
    }
   ],
   "source": [
    "def get_batches(int_text, batch_size, seq_length):\n",
    "    \"\"\"\n",
    "    Return batches of input and target\n",
    "    :param int_text: Text with the words replaced by their ids\n",
    "    :param batch_size: The size of batch\n",
    "    :param seq_length: The length of sequence\n",
    "    :return: Batches as a Numpy array\n",
    "    \"\"\"\n",
    "    num_batches = int((len(int_text)-1) / (batch_size * seq_length))\n",
    "    num_items = num_batches * batch_size * seq_length\n",
    "    inputs = int_text[0:num_items]\n",
    "    targets = int_text[1:num_items + 1]\n",
    "    \n",
    "    result = [[[], []] for _ in range(num_batches)]\n",
    "    for iseq in range(0, num_batches * batch_size):\n",
    "        ibatch = iseq % num_batches\n",
    "        input_seq = inputs[iseq * seq_length:(iseq+1) * seq_length]\n",
    "        target_seq = targets[iseq * seq_length:(iseq+1) * seq_length]\n",
    "        result[ibatch][0].append(input_seq)\n",
    "        result[ibatch][1].append(target_seq)\n",
    "        \n",
    "    return np.array(result)\n",
    "\n",
    "\"\"\"\n",
    "DON'T MODIFY ANYTHING IN THIS CELL THAT IS BELOW THIS LINE\n",
    "\"\"\"\n",
    "tests.test_get_batches(get_batches)"
   ]
  },
  {
   "cell_type": "markdown",
   "metadata": {
    "deletable": true,
    "editable": true
   },
   "source": [
    "## Neural Network Training\n",
    "### Hyperparameters\n",
    "Tune the following parameters:\n",
    "\n",
    "- Set `num_epochs` to the number of epochs.\n",
    "- Set `batch_size` to the batch size.\n",
    "- Set `rnn_size` to the size of the RNNs.\n",
    "- Set `seq_length` to the length of sequence.\n",
    "- Set `learning_rate` to the learning rate.\n",
    "- Set `show_every_n_batches` to the number of batches the neural network should print progress."
   ]
  },
  {
   "cell_type": "code",
   "execution_count": 14,
   "metadata": {
    "collapsed": true,
    "deletable": true,
    "editable": true
   },
   "outputs": [],
   "source": [
    "# Number of Epochs\n",
    "num_epochs = 150\n",
    "# Batch Size\n",
    "batch_size = 32\n",
    "# RNN Size\n",
    "rnn_size = 2750\n",
    "# Sequence Length\n",
    "seq_length = 10\n",
    "# Learning Rate\n",
    "learning_rate = 0.005\n",
    "# Show stats for every n number of batches\n",
    "show_every_n_batches = 100\n",
    "\n",
    "\"\"\"\n",
    "DON'T MODIFY ANYTHING IN THIS CELL THAT IS BELOW THIS LINE\n",
    "\"\"\"\n",
    "save_dir = './save'"
   ]
  },
  {
   "cell_type": "markdown",
   "metadata": {
    "deletable": true,
    "editable": true
   },
   "source": [
    "### Build the Graph\n",
    "Build the graph using the neural network you implemented."
   ]
  },
  {
   "cell_type": "code",
   "execution_count": 15,
   "metadata": {
    "collapsed": false,
    "deletable": true,
    "editable": true
   },
   "outputs": [],
   "source": [
    "\"\"\"\n",
    "DON'T MODIFY ANYTHING IN THIS CELL\n",
    "\"\"\"\n",
    "from tensorflow.contrib import seq2seq\n",
    "\n",
    "train_graph = tf.Graph()\n",
    "with train_graph.as_default():\n",
    "    vocab_size = len(int_to_vocab)\n",
    "    input_text, targets, lr = get_inputs()\n",
    "    input_data_shape = tf.shape(input_text)\n",
    "    cell, initial_state = get_init_cell(input_data_shape[0], rnn_size)\n",
    "    logits, final_state = build_nn(cell, rnn_size, input_text, vocab_size)\n",
    "\n",
    "    # Probabilities for generating words\n",
    "    probs = tf.nn.softmax(logits, name='probs')\n",
    "\n",
    "    # Loss function\n",
    "    cost = seq2seq.sequence_loss(\n",
    "        logits,\n",
    "        targets,\n",
    "        tf.ones([input_data_shape[0], input_data_shape[1]]))\n",
    "\n",
    "    # Optimizer\n",
    "    optimizer = tf.train.AdamOptimizer(lr)\n",
    "\n",
    "    # Gradient Clipping\n",
    "    gradients = optimizer.compute_gradients(cost)\n",
    "    capped_gradients = [(tf.clip_by_value(grad, -1., 1.), var) for grad, var in gradients]\n",
    "    train_op = optimizer.apply_gradients(capped_gradients)"
   ]
  },
  {
   "cell_type": "code",
   "execution_count": 16,
   "metadata": {
    "collapsed": true
   },
   "outputs": [],
   "source": [
    "writer = tf.summary.FileWriter(\"logs/1\")\n",
    "writer.add_graph(train_graph)"
   ]
  },
  {
   "cell_type": "markdown",
   "metadata": {
    "deletable": true,
    "editable": true
   },
   "source": [
    "## Train\n",
    "Train the neural network on the preprocessed data.  If you have a hard time getting a good loss, check the [forms](https://discussions.udacity.com/) to see if anyone is having the same problem."
   ]
  },
  {
   "cell_type": "code",
   "execution_count": 17,
   "metadata": {
    "collapsed": false,
    "deletable": true,
    "editable": true
   },
   "outputs": [
    {
     "name": "stdout",
     "output_type": "stream",
     "text": [
      "Epoch   0 Batch    0/215   train_loss = 8.820\n",
      "Epoch   0 Batch  100/215   train_loss = 5.846\n",
      "Epoch   0 Batch  200/215   train_loss = 5.351\n",
      "Epoch   1 Batch   85/215   train_loss = 5.405\n",
      "Epoch   1 Batch  185/215   train_loss = 5.419\n",
      "Epoch   2 Batch   70/215   train_loss = 5.278\n",
      "Epoch   2 Batch  170/215   train_loss = 5.192\n",
      "Epoch   3 Batch   55/215   train_loss = 5.097\n",
      "Epoch   3 Batch  155/215   train_loss = 4.917\n",
      "Epoch   4 Batch   40/215   train_loss = 5.213\n",
      "Epoch   4 Batch  140/215   train_loss = 4.721\n",
      "Epoch   5 Batch   25/215   train_loss = 4.498\n",
      "Epoch   5 Batch  125/215   train_loss = 4.211\n",
      "Epoch   6 Batch   10/215   train_loss = 4.729\n",
      "Epoch   6 Batch  110/215   train_loss = 4.058\n",
      "Epoch   6 Batch  210/215   train_loss = 3.951\n",
      "Epoch   7 Batch   95/215   train_loss = 3.963\n",
      "Epoch   7 Batch  195/215   train_loss = 3.894\n",
      "Epoch   8 Batch   80/215   train_loss = 3.553\n",
      "Epoch   8 Batch  180/215   train_loss = 3.641\n",
      "Epoch   9 Batch   65/215   train_loss = 3.965\n",
      "Epoch   9 Batch  165/215   train_loss = 4.066\n",
      "Epoch  10 Batch   50/215   train_loss = 4.103\n",
      "Epoch  10 Batch  150/215   train_loss = 3.714\n",
      "Epoch  11 Batch   35/215   train_loss = 3.983\n",
      "Epoch  11 Batch  135/215   train_loss = 3.514\n",
      "Epoch  12 Batch   20/215   train_loss = 3.709\n",
      "Epoch  12 Batch  120/215   train_loss = 3.395\n",
      "Epoch  13 Batch    5/215   train_loss = 3.561\n",
      "Epoch  13 Batch  105/215   train_loss = 3.309\n",
      "Epoch  13 Batch  205/215   train_loss = 3.555\n",
      "Epoch  14 Batch   90/215   train_loss = 3.464\n",
      "Epoch  14 Batch  190/215   train_loss = 3.588\n",
      "Epoch  15 Batch   75/215   train_loss = 3.197\n",
      "Epoch  15 Batch  175/215   train_loss = 3.536\n",
      "Epoch  16 Batch   60/215   train_loss = 3.764\n",
      "Epoch  16 Batch  160/215   train_loss = 3.447\n",
      "Epoch  17 Batch   45/215   train_loss = 3.269\n",
      "Epoch  17 Batch  145/215   train_loss = 3.092\n",
      "Epoch  18 Batch   30/215   train_loss = 3.372\n",
      "Epoch  18 Batch  130/215   train_loss = 3.468\n",
      "Epoch  19 Batch   15/215   train_loss = 3.551\n",
      "Epoch  19 Batch  115/215   train_loss = 3.446\n",
      "Epoch  20 Batch    0/215   train_loss = 2.778\n",
      "Epoch  20 Batch  100/215   train_loss = 3.091\n",
      "Epoch  20 Batch  200/215   train_loss = 3.483\n",
      "Epoch  21 Batch   85/215   train_loss = 3.227\n",
      "Epoch  21 Batch  185/215   train_loss = 3.618\n",
      "Epoch  22 Batch   70/215   train_loss = 3.460\n",
      "Epoch  22 Batch  170/215   train_loss = 3.694\n",
      "Epoch  23 Batch   55/215   train_loss = 3.422\n",
      "Epoch  23 Batch  155/215   train_loss = 3.339\n",
      "Epoch  24 Batch   40/215   train_loss = 3.881\n",
      "Epoch  24 Batch  140/215   train_loss = 3.500\n",
      "Epoch  25 Batch   25/215   train_loss = 3.285\n",
      "Epoch  25 Batch  125/215   train_loss = 2.992\n",
      "Epoch  26 Batch   10/215   train_loss = 3.717\n",
      "Epoch  26 Batch  110/215   train_loss = 3.204\n",
      "Epoch  26 Batch  210/215   train_loss = 3.180\n",
      "Epoch  27 Batch   95/215   train_loss = 3.321\n",
      "Epoch  27 Batch  195/215   train_loss = 3.318\n",
      "Epoch  28 Batch   80/215   train_loss = 3.011\n",
      "Epoch  28 Batch  180/215   train_loss = 3.161\n",
      "Epoch  29 Batch   65/215   train_loss = 3.577\n",
      "Epoch  29 Batch  165/215   train_loss = 3.701\n",
      "Epoch  30 Batch   50/215   train_loss = 3.843\n",
      "Epoch  30 Batch  150/215   train_loss = 3.376\n",
      "Epoch  31 Batch   35/215   train_loss = 3.637\n",
      "Epoch  31 Batch  135/215   train_loss = 3.232\n",
      "Epoch  32 Batch   20/215   train_loss = 3.499\n",
      "Epoch  32 Batch  120/215   train_loss = 3.236\n",
      "Epoch  33 Batch    5/215   train_loss = 3.395\n",
      "Epoch  33 Batch  105/215   train_loss = 3.213\n",
      "Epoch  33 Batch  205/215   train_loss = 3.331\n",
      "Epoch  34 Batch   90/215   train_loss = 3.240\n",
      "Epoch  34 Batch  190/215   train_loss = 3.424\n",
      "Epoch  35 Batch   75/215   train_loss = 3.027\n",
      "Epoch  35 Batch  175/215   train_loss = 3.350\n",
      "Epoch  36 Batch   60/215   train_loss = 3.637\n",
      "Epoch  36 Batch  160/215   train_loss = 3.334\n",
      "Epoch  37 Batch   45/215   train_loss = 3.133\n",
      "Epoch  37 Batch  145/215   train_loss = 2.967\n",
      "Epoch  38 Batch   30/215   train_loss = 3.269\n",
      "Epoch  38 Batch  130/215   train_loss = 3.343\n",
      "Epoch  39 Batch   15/215   train_loss = 3.373\n",
      "Epoch  39 Batch  115/215   train_loss = 3.330\n",
      "Epoch  40 Batch    0/215   train_loss = 2.618\n",
      "Epoch  40 Batch  100/215   train_loss = 3.008\n",
      "Epoch  40 Batch  200/215   train_loss = 3.290\n",
      "Epoch  41 Batch   85/215   train_loss = 3.130\n",
      "Epoch  41 Batch  185/215   train_loss = 3.471\n",
      "Epoch  42 Batch   70/215   train_loss = 3.368\n",
      "Epoch  42 Batch  170/215   train_loss = 3.574\n",
      "Epoch  43 Batch   55/215   train_loss = 3.339\n",
      "Epoch  43 Batch  155/215   train_loss = 3.239\n",
      "Epoch  44 Batch   40/215   train_loss = 3.738\n",
      "Epoch  44 Batch  140/215   train_loss = 3.649\n",
      "Epoch  45 Batch   25/215   train_loss = 4.193\n",
      "Epoch  45 Batch  125/215   train_loss = 3.774\n",
      "Epoch  46 Batch   10/215   train_loss = 4.302\n",
      "Epoch  46 Batch  110/215   train_loss = 3.465\n",
      "Epoch  46 Batch  210/215   train_loss = 3.248\n",
      "Epoch  47 Batch   95/215   train_loss = 3.352\n",
      "Epoch  47 Batch  195/215   train_loss = 3.313\n",
      "Epoch  48 Batch   80/215   train_loss = 2.977\n",
      "Epoch  48 Batch  180/215   train_loss = 3.146\n",
      "Epoch  49 Batch   65/215   train_loss = 3.529\n",
      "Epoch  49 Batch  165/215   train_loss = 3.665\n",
      "Epoch  50 Batch   50/215   train_loss = 3.780\n",
      "Epoch  50 Batch  150/215   train_loss = 3.327\n",
      "Epoch  51 Batch   35/215   train_loss = 3.555\n",
      "Epoch  51 Batch  135/215   train_loss = 3.207\n",
      "Epoch  52 Batch   20/215   train_loss = 3.468\n",
      "Epoch  52 Batch  120/215   train_loss = 3.203\n",
      "Epoch  53 Batch    5/215   train_loss = 3.382\n",
      "Epoch  53 Batch  105/215   train_loss = 3.156\n",
      "Epoch  53 Batch  205/215   train_loss = 3.367\n",
      "Epoch  54 Batch   90/215   train_loss = 3.231\n",
      "Epoch  54 Batch  190/215   train_loss = 3.411\n",
      "Epoch  55 Batch   75/215   train_loss = 3.024\n",
      "Epoch  55 Batch  175/215   train_loss = 3.345\n",
      "Epoch  56 Batch   60/215   train_loss = 3.598\n",
      "Epoch  56 Batch  160/215   train_loss = 3.330\n",
      "Epoch  57 Batch   45/215   train_loss = 3.127\n",
      "Epoch  57 Batch  145/215   train_loss = 2.974\n",
      "Epoch  58 Batch   30/215   train_loss = 3.263\n",
      "Epoch  58 Batch  130/215   train_loss = 3.342\n",
      "Epoch  59 Batch   15/215   train_loss = 3.369\n",
      "Epoch  59 Batch  115/215   train_loss = 3.323\n",
      "Epoch  60 Batch    0/215   train_loss = 2.611\n",
      "Epoch  60 Batch  100/215   train_loss = 3.006\n",
      "Epoch  60 Batch  200/215   train_loss = 3.297\n",
      "Epoch  61 Batch   85/215   train_loss = 3.123\n",
      "Epoch  61 Batch  185/215   train_loss = 3.474\n",
      "Epoch  62 Batch   70/215   train_loss = 3.352\n",
      "Epoch  62 Batch  170/215   train_loss = 3.591\n",
      "Epoch  63 Batch   55/215   train_loss = 3.331\n",
      "Epoch  63 Batch  155/215   train_loss = 3.232\n",
      "Epoch  64 Batch   40/215   train_loss = 3.736\n",
      "Epoch  64 Batch  140/215   train_loss = 3.324\n",
      "Epoch  65 Batch   25/215   train_loss = 3.122\n",
      "Epoch  65 Batch  125/215   train_loss = 2.863\n",
      "Epoch  66 Batch   10/215   train_loss = 3.583\n",
      "Epoch  66 Batch  110/215   train_loss = 3.113\n",
      "Epoch  66 Batch  210/215   train_loss = 3.072\n",
      "Epoch  67 Batch   95/215   train_loss = 3.868\n",
      "Epoch  67 Batch  195/215   train_loss = 4.137\n",
      "Epoch  68 Batch   80/215   train_loss = 3.793\n",
      "Epoch  68 Batch  180/215   train_loss = 3.756\n",
      "Epoch  69 Batch   65/215   train_loss = 3.944\n",
      "Epoch  69 Batch  165/215   train_loss = 3.982\n",
      "Epoch  70 Batch   50/215   train_loss = 3.876\n",
      "Epoch  70 Batch  150/215   train_loss = 3.477\n",
      "Epoch  71 Batch   35/215   train_loss = 3.613\n",
      "Epoch  71 Batch  135/215   train_loss = 3.249\n",
      "Epoch  72 Batch   20/215   train_loss = 3.496\n",
      "Epoch  72 Batch  120/215   train_loss = 3.226\n",
      "Epoch  73 Batch    5/215   train_loss = 3.396\n",
      "Epoch  73 Batch  105/215   train_loss = 3.159\n",
      "Epoch  73 Batch  205/215   train_loss = 3.369\n",
      "Epoch  74 Batch   90/215   train_loss = 3.234\n",
      "Epoch  74 Batch  190/215   train_loss = 3.389\n",
      "Epoch  75 Batch   75/215   train_loss = 3.034\n",
      "Epoch  75 Batch  175/215   train_loss = 3.346\n",
      "Epoch  76 Batch   60/215   train_loss = 3.606\n",
      "Epoch  76 Batch  160/215   train_loss = 3.334\n",
      "Epoch  77 Batch   45/215   train_loss = 3.127\n",
      "Epoch  77 Batch  145/215   train_loss = 2.977\n",
      "Epoch  78 Batch   30/215   train_loss = 3.266\n",
      "Epoch  78 Batch  130/215   train_loss = 3.350\n",
      "Epoch  79 Batch   15/215   train_loss = 3.378\n",
      "Epoch  79 Batch  115/215   train_loss = 3.327\n",
      "Epoch  80 Batch    0/215   train_loss = 2.604\n",
      "Epoch  80 Batch  100/215   train_loss = 3.007\n",
      "Epoch  80 Batch  200/215   train_loss = 3.307\n",
      "Epoch  81 Batch   85/215   train_loss = 3.109\n",
      "Epoch  81 Batch  185/215   train_loss = 3.475\n",
      "Epoch  82 Batch   70/215   train_loss = 3.354\n",
      "Epoch  82 Batch  170/215   train_loss = 3.621\n",
      "Epoch  83 Batch   55/215   train_loss = 3.337\n",
      "Epoch  83 Batch  155/215   train_loss = 3.210\n",
      "Epoch  84 Batch   40/215   train_loss = 3.736\n",
      "Epoch  84 Batch  140/215   train_loss = 3.328\n",
      "Epoch  85 Batch   25/215   train_loss = 3.125\n",
      "Epoch  85 Batch  125/215   train_loss = 2.856\n",
      "Epoch  86 Batch   10/215   train_loss = 3.585\n",
      "Epoch  86 Batch  110/215   train_loss = 3.103\n",
      "Epoch  86 Batch  210/215   train_loss = 3.057\n",
      "Epoch  87 Batch   95/215   train_loss = 3.202\n",
      "Epoch  87 Batch  195/215   train_loss = 3.186\n",
      "Epoch  88 Batch   80/215   train_loss = 2.908\n",
      "Epoch  88 Batch  180/215   train_loss = 3.099\n",
      "Epoch  89 Batch   65/215   train_loss = 3.487\n",
      "Epoch  89 Batch  165/215   train_loss = 3.643\n",
      "Epoch  90 Batch   50/215   train_loss = 3.761\n",
      "Epoch  90 Batch  150/215   train_loss = 3.318\n",
      "Epoch  91 Batch   35/215   train_loss = 3.538\n",
      "Epoch  91 Batch  135/215   train_loss = 3.196\n",
      "Epoch  92 Batch   20/215   train_loss = 3.454\n",
      "Epoch  92 Batch  120/215   train_loss = 3.202\n",
      "Epoch  93 Batch    5/215   train_loss = 3.384\n",
      "Epoch  93 Batch  105/215   train_loss = 3.155\n",
      "Epoch  93 Batch  205/215   train_loss = 3.696\n",
      "Epoch  94 Batch   90/215   train_loss = 4.563\n",
      "Epoch  94 Batch  190/215   train_loss = 4.537\n",
      "Epoch  95 Batch   75/215   train_loss = 3.861\n",
      "Epoch  95 Batch  175/215   train_loss = 4.026\n",
      "Epoch  96 Batch   60/215   train_loss = 3.967\n",
      "Epoch  96 Batch  160/215   train_loss = 3.630\n",
      "Epoch  97 Batch   45/215   train_loss = 3.330\n",
      "Epoch  97 Batch  145/215   train_loss = 3.099\n",
      "Epoch  98 Batch   30/215   train_loss = 3.378\n",
      "Epoch  98 Batch  130/215   train_loss = 3.440\n",
      "Epoch  99 Batch   15/215   train_loss = 3.477\n",
      "Epoch  99 Batch  115/215   train_loss = 3.320\n",
      "Epoch 100 Batch    0/215   train_loss = 2.619\n",
      "Epoch 100 Batch  100/215   train_loss = 3.023\n",
      "Epoch 100 Batch  200/215   train_loss = 3.314\n",
      "Epoch 101 Batch   85/215   train_loss = 3.120\n",
      "Epoch 101 Batch  185/215   train_loss = 3.511\n",
      "Epoch 102 Batch   70/215   train_loss = 3.356\n",
      "Epoch 102 Batch  170/215   train_loss = 3.567\n",
      "Epoch 103 Batch   55/215   train_loss = 3.345\n",
      "Epoch 103 Batch  155/215   train_loss = 3.300\n",
      "Epoch 104 Batch   40/215   train_loss = 3.743\n",
      "Epoch 104 Batch  140/215   train_loss = 3.336\n",
      "Epoch 105 Batch   25/215   train_loss = 3.128\n",
      "Epoch 105 Batch  125/215   train_loss = 2.831\n",
      "Epoch 106 Batch   10/215   train_loss = 3.585\n",
      "Epoch 106 Batch  110/215   train_loss = 3.136\n",
      "Epoch 106 Batch  210/215   train_loss = 3.068\n",
      "Epoch 107 Batch   95/215   train_loss = 3.208\n",
      "Epoch 107 Batch  195/215   train_loss = 3.278\n",
      "Epoch 108 Batch   80/215   train_loss = 2.913\n",
      "Epoch 108 Batch  180/215   train_loss = 3.103\n",
      "Epoch 109 Batch   65/215   train_loss = 3.487\n",
      "Epoch 109 Batch  165/215   train_loss = 3.642\n",
      "Epoch 110 Batch   50/215   train_loss = 3.763\n",
      "Epoch 110 Batch  150/215   train_loss = 3.351\n",
      "Epoch 111 Batch   35/215   train_loss = 3.542\n",
      "Epoch 111 Batch  135/215   train_loss = 3.202\n",
      "Epoch 112 Batch   20/215   train_loss = 3.465\n",
      "Epoch 112 Batch  120/215   train_loss = 3.255\n",
      "Epoch 113 Batch    5/215   train_loss = 3.382\n",
      "Epoch 113 Batch  105/215   train_loss = 3.148\n",
      "Epoch 113 Batch  205/215   train_loss = 3.337\n",
      "Epoch 114 Batch   90/215   train_loss = 3.229\n",
      "Epoch 114 Batch  190/215   train_loss = 3.402\n",
      "Epoch 115 Batch   75/215   train_loss = 3.016\n",
      "Epoch 115 Batch  175/215   train_loss = 3.339\n",
      "Epoch 116 Batch   60/215   train_loss = 3.626\n",
      "Epoch 116 Batch  160/215   train_loss = 3.331\n",
      "Epoch 117 Batch   45/215   train_loss = 3.119\n",
      "Epoch 117 Batch  145/215   train_loss = 2.970\n",
      "Epoch 118 Batch   30/215   train_loss = 3.257\n",
      "Epoch 118 Batch  130/215   train_loss = 3.343\n",
      "Epoch 119 Batch   15/215   train_loss = 3.419\n",
      "Epoch 119 Batch  115/215   train_loss = 3.292\n",
      "Epoch 120 Batch    0/215   train_loss = 2.593\n",
      "Epoch 120 Batch  100/215   train_loss = 3.002\n",
      "Epoch 120 Batch  200/215   train_loss = 3.707\n",
      "Epoch 121 Batch   85/215   train_loss = 4.622\n",
      "Epoch 121 Batch  185/215   train_loss = 4.843\n",
      "Epoch 122 Batch   70/215   train_loss = 4.293\n",
      "Epoch 122 Batch  170/215   train_loss = 4.268\n",
      "Epoch 123 Batch   55/215   train_loss = 3.787\n",
      "Epoch 123 Batch  155/215   train_loss = 3.719\n",
      "Epoch 124 Batch   40/215   train_loss = 3.937\n",
      "Epoch 124 Batch  140/215   train_loss = 3.618\n",
      "Epoch 125 Batch   25/215   train_loss = 3.283\n",
      "Epoch 125 Batch  125/215   train_loss = 2.970\n",
      "Epoch 126 Batch   10/215   train_loss = 3.701\n",
      "Epoch 126 Batch  110/215   train_loss = 3.185\n",
      "Epoch 126 Batch  210/215   train_loss = 3.095\n",
      "Epoch 127 Batch   95/215   train_loss = 3.223\n",
      "Epoch 127 Batch  195/215   train_loss = 3.243\n",
      "Epoch 128 Batch   80/215   train_loss = 2.931\n",
      "Epoch 128 Batch  180/215   train_loss = 3.119\n",
      "Epoch 129 Batch   65/215   train_loss = 3.501\n",
      "Epoch 129 Batch  165/215   train_loss = 3.677\n",
      "Epoch 130 Batch   50/215   train_loss = 3.772\n",
      "Epoch 130 Batch  150/215   train_loss = 3.324\n",
      "Epoch 131 Batch   35/215   train_loss = 3.553\n",
      "Epoch 131 Batch  135/215   train_loss = 3.238\n",
      "Epoch 132 Batch   20/215   train_loss = 3.471\n",
      "Epoch 132 Batch  120/215   train_loss = 3.281\n",
      "Epoch 133 Batch    5/215   train_loss = 3.392\n",
      "Epoch 133 Batch  105/215   train_loss = 3.152\n",
      "Epoch 133 Batch  205/215   train_loss = 3.314\n",
      "Epoch 134 Batch   90/215   train_loss = 3.230\n",
      "Epoch 134 Batch  190/215   train_loss = 3.413\n",
      "Epoch 135 Batch   75/215   train_loss = 3.024\n",
      "Epoch 135 Batch  175/215   train_loss = 3.404\n",
      "Epoch 136 Batch   60/215   train_loss = 3.632\n",
      "Epoch 136 Batch  160/215   train_loss = 3.332\n",
      "Epoch 137 Batch   45/215   train_loss = 3.102\n",
      "Epoch 137 Batch  145/215   train_loss = 3.010\n",
      "Epoch 138 Batch   30/215   train_loss = 3.259\n",
      "Epoch 138 Batch  130/215   train_loss = 3.371\n",
      "Epoch 139 Batch   15/215   train_loss = 3.425\n",
      "Epoch 139 Batch  115/215   train_loss = 3.355\n",
      "Epoch 140 Batch    0/215   train_loss = 2.618\n",
      "Epoch 140 Batch  100/215   train_loss = 3.005\n",
      "Epoch 140 Batch  200/215   train_loss = 3.326\n",
      "Epoch 141 Batch   85/215   train_loss = 3.106\n",
      "Epoch 141 Batch  185/215   train_loss = 3.504\n",
      "Epoch 142 Batch   70/215   train_loss = 3.349\n",
      "Epoch 142 Batch  170/215   train_loss = 3.565\n",
      "Epoch 143 Batch   55/215   train_loss = 3.334\n",
      "Epoch 143 Batch  155/215   train_loss = 3.261\n",
      "Epoch 144 Batch   40/215   train_loss = 3.744\n",
      "Epoch 144 Batch  140/215   train_loss = 3.350\n",
      "Epoch 145 Batch   25/215   train_loss = 3.118\n",
      "Epoch 145 Batch  125/215   train_loss = 2.852\n",
      "Epoch 146 Batch   10/215   train_loss = 3.614\n",
      "Epoch 146 Batch  110/215   train_loss = 3.130\n",
      "Epoch 146 Batch  210/215   train_loss = 3.059\n",
      "Epoch 147 Batch   95/215   train_loss = 3.205\n",
      "Epoch 147 Batch  195/215   train_loss = 3.221\n",
      "Epoch 148 Batch   80/215   train_loss = 2.943\n",
      "Epoch 148 Batch  180/215   train_loss = 4.442\n",
      "Epoch 149 Batch   65/215   train_loss = 4.913\n",
      "Epoch 149 Batch  165/215   train_loss = 4.513\n",
      "Model Trained and Saved\n"
     ]
    }
   ],
   "source": [
    "\"\"\"\n",
    "DON'T MODIFY ANYTHING IN THIS CELL\n",
    "\"\"\"\n",
    "batches = get_batches(int_text, batch_size, seq_length)\n",
    "\n",
    "with tf.Session(graph=train_graph) as sess:\n",
    "    sess.run(tf.global_variables_initializer())\n",
    "\n",
    "    for epoch_i in range(num_epochs):\n",
    "        state = sess.run(initial_state, {input_text: batches[0][0]})\n",
    "\n",
    "        for batch_i, (x, y) in enumerate(batches):\n",
    "            feed = {\n",
    "                input_text: x,\n",
    "                targets: y,\n",
    "                initial_state: state,\n",
    "                lr: learning_rate}\n",
    "            train_loss, state, _ = sess.run([cost, final_state, train_op], feed)\n",
    "\n",
    "            # Show every <show_every_n_batches> batches\n",
    "            if (epoch_i * len(batches) + batch_i) % show_every_n_batches == 0:\n",
    "                print('Epoch {:>3} Batch {:>4}/{}   train_loss = {:.3f}'.format(\n",
    "                    epoch_i,\n",
    "                    batch_i,\n",
    "                    len(batches),\n",
    "                    train_loss))\n",
    "\n",
    "    # Save Model\n",
    "    saver = tf.train.Saver()\n",
    "    saver.save(sess, save_dir)\n",
    "    print('Model Trained and Saved')"
   ]
  },
  {
   "cell_type": "markdown",
   "metadata": {
    "deletable": true,
    "editable": true
   },
   "source": [
    "## Save Parameters\n",
    "Save `seq_length` and `save_dir` for generating a new TV script."
   ]
  },
  {
   "cell_type": "code",
   "execution_count": 18,
   "metadata": {
    "collapsed": false,
    "deletable": true,
    "editable": true
   },
   "outputs": [],
   "source": [
    "\"\"\"\n",
    "DON'T MODIFY ANYTHING IN THIS CELL\n",
    "\"\"\"\n",
    "# Save parameters for checkpoint\n",
    "helper.save_params((seq_length, save_dir))"
   ]
  },
  {
   "cell_type": "markdown",
   "metadata": {
    "deletable": true,
    "editable": true
   },
   "source": [
    "# Checkpoint"
   ]
  },
  {
   "cell_type": "code",
   "execution_count": 19,
   "metadata": {
    "collapsed": false,
    "deletable": true,
    "editable": true
   },
   "outputs": [],
   "source": [
    "\"\"\"\n",
    "DON'T MODIFY ANYTHING IN THIS CELL\n",
    "\"\"\"\n",
    "import tensorflow as tf\n",
    "import numpy as np\n",
    "import helper\n",
    "import problem_unittests as tests\n",
    "\n",
    "_, vocab_to_int, int_to_vocab, token_dict = helper.load_preprocess()\n",
    "seq_length, load_dir = helper.load_params()"
   ]
  },
  {
   "cell_type": "markdown",
   "metadata": {
    "deletable": true,
    "editable": true
   },
   "source": [
    "## Implement Generate Functions\n",
    "### Get Tensors\n",
    "Get tensors from `loaded_graph` using the function [`get_tensor_by_name()`](https://www.tensorflow.org/api_docs/python/tf/Graph#get_tensor_by_name).  Get the tensors using the following names:\n",
    "- \"input:0\"\n",
    "- \"initial_state:0\"\n",
    "- \"final_state:0\"\n",
    "- \"probs:0\"\n",
    "\n",
    "Return the tensors in the following tuple `(InputTensor, InitialStateTensor, FinalStateTensor, ProbsTensor)` "
   ]
  },
  {
   "cell_type": "code",
   "execution_count": 20,
   "metadata": {
    "collapsed": false,
    "deletable": true,
    "editable": true
   },
   "outputs": [
    {
     "name": "stdout",
     "output_type": "stream",
     "text": [
      "Tests Passed\n"
     ]
    }
   ],
   "source": [
    "def get_tensors(loaded_graph):\n",
    "    \"\"\"\n",
    "    Get input, initial state, final state, and probabilities tensor from <loaded_graph>\n",
    "    :param loaded_graph: TensorFlow graph loaded from file\n",
    "    :return: Tuple (InputTensor, InitialStateTensor, FinalStateTensor, ProbsTensor)\n",
    "    \"\"\"\n",
    "    return loaded_graph.get_tensor_by_name(\"input:0\"), \\\n",
    "           loaded_graph.get_tensor_by_name(\"initial_state:0\"), \\\n",
    "           loaded_graph.get_tensor_by_name(\"final_state:0\"), \\\n",
    "           loaded_graph.get_tensor_by_name(\"probs:0\")\n",
    "\n",
    "\n",
    "\"\"\"\n",
    "DON'T MODIFY ANYTHING IN THIS CELL THAT IS BELOW THIS LINE\n",
    "\"\"\"\n",
    "tests.test_get_tensors(get_tensors)"
   ]
  },
  {
   "cell_type": "markdown",
   "metadata": {
    "deletable": true,
    "editable": true
   },
   "source": [
    "### Choose Word\n",
    "Implement the `pick_word()` function to select the next word using `probabilities`."
   ]
  },
  {
   "cell_type": "code",
   "execution_count": 21,
   "metadata": {
    "collapsed": false,
    "deletable": true,
    "editable": true
   },
   "outputs": [
    {
     "name": "stdout",
     "output_type": "stream",
     "text": [
      "Tests Passed\n"
     ]
    }
   ],
   "source": [
    "def pick_word(probabilities, int_to_vocab):\n",
    "    \"\"\"\n",
    "    Pick the next word in the generated text\n",
    "    :param probabilities: Probabilites of the next word\n",
    "    :param int_to_vocab: Dictionary of word ids as the keys and words as the values\n",
    "    :return: String of the predicted word\n",
    "    \"\"\"\n",
    "    return int_to_vocab[np.argmax(probabilities)]\n",
    "\n",
    "\n",
    "\"\"\"\n",
    "DON'T MODIFY ANYTHING IN THIS CELL THAT IS BELOW THIS LINE\n",
    "\"\"\"\n",
    "tests.test_pick_word(pick_word)"
   ]
  },
  {
   "cell_type": "markdown",
   "metadata": {
    "deletable": true,
    "editable": true
   },
   "source": [
    "## Generate TV Script\n",
    "This will generate the TV script for you.  Set `gen_length` to the length of TV script you want to generate."
   ]
  },
  {
   "cell_type": "code",
   "execution_count": 22,
   "metadata": {
    "collapsed": false,
    "deletable": true,
    "editable": true
   },
   "outputs": [
    {
     "name": "stdout",
     "output_type": "stream",
     "text": [
      "moe_szyslak:(sobs)\n",
      "\n",
      "\n",
      "homer_simpson: hey moe, i don't want to have to learn the into that in a head.\n",
      "homer_simpson:(singing) when i... the thing... this is the love. one. hey, i know a guy who got the greatest.\n",
      "moe_szyslak:(to moe) i got a\"(to homer) we can never want to get right thing.\n",
      "\n",
      "\n",
      "lenny_leonard: okay, homer?(sobs) i know, what you do...(don't head) how many i do that.\n",
      "homer_simpson: to the time of my life.\n",
      "moe_szyslak:(to homer) i got a one day of my head.\n",
      "\n",
      "\n",
      "lenny_leonard: you know, that...(to homer) hey, i'm so, if you want to do it.\n",
      "moe_szyslak: yeah, we have to look at ya.\n",
      "\n",
      "\n",
      "moe_szyslak: with not that right.\n",
      "moe_szyslak:(to homer) i know, i know you're not so...\n",
      "homer_simpson:\n"
     ]
    }
   ],
   "source": [
    "gen_length = 200\n",
    "# homer_simpson, moe_szyslak, or Barney_Gumble\n",
    "prime_word = 'moe_szyslak'\n",
    "\n",
    "\"\"\"\n",
    "DON'T MODIFY ANYTHING IN THIS CELL THAT IS BELOW THIS LINE\n",
    "\"\"\"\n",
    "loaded_graph = tf.Graph()\n",
    "with tf.Session(graph=loaded_graph) as sess:\n",
    "    # Load saved model\n",
    "    loader = tf.train.import_meta_graph(load_dir + '.meta')\n",
    "    loader.restore(sess, load_dir)\n",
    "\n",
    "    # Get Tensors from loaded model\n",
    "    input_text, initial_state, final_state, probs = get_tensors(loaded_graph)\n",
    "\n",
    "    # Sentences generation setup\n",
    "    gen_sentences = [prime_word + ':']\n",
    "    prev_state = sess.run(initial_state, {input_text: np.array([[1]])})\n",
    "\n",
    "    # Generate sentences\n",
    "    for n in range(gen_length):\n",
    "        # Dynamic Input\n",
    "        dyn_input = [[vocab_to_int[word] for word in gen_sentences[-seq_length:]]]\n",
    "        dyn_seq_length = len(dyn_input[0])\n",
    "\n",
    "        # Get Prediction\n",
    "        probabilities, prev_state = sess.run(\n",
    "            [probs, final_state],\n",
    "            {input_text: dyn_input, initial_state: prev_state})\n",
    "        \n",
    "        pred_word = pick_word(probabilities[dyn_seq_length-1], int_to_vocab)\n",
    "\n",
    "        gen_sentences.append(pred_word)\n",
    "    \n",
    "    # Remove tokens\n",
    "    tv_script = ' '.join(gen_sentences)\n",
    "    for key, token in token_dict.items():\n",
    "        ending = ' ' if key in ['\\n', '(', '\"'] else ''\n",
    "        tv_script = tv_script.replace(' ' + token.lower(), key)\n",
    "    tv_script = tv_script.replace('\\n ', '\\n')\n",
    "    tv_script = tv_script.replace('( ', '(')\n",
    "        \n",
    "    print(tv_script)"
   ]
  },
  {
   "cell_type": "markdown",
   "metadata": {
    "deletable": true,
    "editable": true
   },
   "source": [
    "# The TV Script is Nonsensical\n",
    "It's ok if the TV script doesn't make any sense.  We trained on less than a megabyte of text.  In order to get good results, you'll have to use a smaller vocabulary or get more data.  Luckly there's more data!  As we mentioned in the begging of this project, this is a subset of [another dataset](https://www.kaggle.com/wcukierski/the-simpsons-by-the-data).  We didn't have you train on all the data, because that would take too long.  However, you are free to train your neural network on all the data.  After you complete the project, of course.\n",
    "# Submitting This Project\n",
    "When submitting this project, make sure to run all the cells before saving the notebook. Save the notebook file as \"dlnd_tv_script_generation.ipynb\" and save it as a HTML file under \"File\" -> \"Download as\". Include the \"helper.py\" and \"problem_unittests.py\" files in your submission."
   ]
  }
 ],
 "metadata": {
  "kernelspec": {
   "display_name": "Python 3",
   "language": "python",
   "name": "python3"
  },
  "language_info": {
   "codemirror_mode": {
    "name": "ipython",
    "version": 3
   },
   "file_extension": ".py",
   "mimetype": "text/x-python",
   "name": "python",
   "nbconvert_exporter": "python",
   "pygments_lexer": "ipython3",
   "version": "3.5.2"
  }
 },
 "nbformat": 4,
 "nbformat_minor": 0
}
