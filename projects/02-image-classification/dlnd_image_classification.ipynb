{
 "cells": [
  {
   "cell_type": "markdown",
   "metadata": {
    "collapsed": true
   },
   "source": [
    "# Image Classification\n",
    "In this project, you'll classify images from the [CIFAR-10 dataset](https://www.cs.toronto.edu/~kriz/cifar.html).  The dataset consists of airplanes, dogs, cats, and other objects. You'll preprocess the images, then train a convolutional neural network on all the samples. The images need to be normalized and the labels need to be one-hot encoded.  You'll get to apply what you learned and build a convolutional, max pooling, dropout, and fully connected layers.  At the end, you'll get to see your neural network's predictions on the sample images.\n",
    "## Get the Data\n",
    "Run the following cell to download the [CIFAR-10 dataset for python](https://www.cs.toronto.edu/~kriz/cifar-10-python.tar.gz)."
   ]
  },
  {
   "cell_type": "code",
   "execution_count": 1,
   "metadata": {
    "collapsed": false
   },
   "outputs": [
    {
     "name": "stdout",
     "output_type": "stream",
     "text": [
      "All files found!\n"
     ]
    }
   ],
   "source": [
    "\"\"\"\n",
    "DON'T MODIFY ANYTHING IN THIS CELL THAT IS BELOW THIS LINE\n",
    "\"\"\"\n",
    "from urllib.request import urlretrieve\n",
    "from os.path import isfile, isdir\n",
    "from tqdm import tqdm\n",
    "import problem_unittests as tests\n",
    "import tarfile\n",
    "\n",
    "cifar10_dataset_folder_path = 'cifar-10-batches-py'\n",
    "\n",
    "class DLProgress(tqdm):\n",
    "    last_block = 0\n",
    "\n",
    "    def hook(self, block_num=1, block_size=1, total_size=None):\n",
    "        self.total = total_size\n",
    "        self.update((block_num - self.last_block) * block_size)\n",
    "        self.last_block = block_num\n",
    "\n",
    "if not isfile('cifar-10-python.tar.gz'):\n",
    "    with DLProgress(unit='B', unit_scale=True, miniters=1, desc='CIFAR-10 Dataset') as pbar:\n",
    "        urlretrieve(\n",
    "            'https://www.cs.toronto.edu/~kriz/cifar-10-python.tar.gz',\n",
    "            'cifar-10-python.tar.gz',\n",
    "            pbar.hook)\n",
    "\n",
    "if not isdir(cifar10_dataset_folder_path):\n",
    "    with tarfile.open('cifar-10-python.tar.gz') as tar:\n",
    "        tar.extractall()\n",
    "        tar.close()\n",
    "\n",
    "\n",
    "tests.test_folder_path(cifar10_dataset_folder_path)"
   ]
  },
  {
   "cell_type": "markdown",
   "metadata": {},
   "source": [
    "## Explore the Data\n",
    "The dataset is broken into batches to prevent your machine from running out of memory.  The CIFAR-10 dataset consists of 5 batches, named `data_batch_1`, `data_batch_2`, etc.. Each batch contains the labels and images that are one of the following:\n",
    "* airplane\n",
    "* automobile\n",
    "* bird\n",
    "* cat\n",
    "* deer\n",
    "* dog\n",
    "* frog\n",
    "* horse\n",
    "* ship\n",
    "* truck\n",
    "\n",
    "Understanding a dataset is part of making predictions on the data.  Play around with the code cell below by changing the `batch_id` and `sample_id`. The `batch_id` is the id for a batch (1-5). The `sample_id` is the id for a image and label pair in the batch.\n",
    "\n",
    "Ask yourself \"What are all possible labels?\", \"What is the range of values for the image data?\", \"Are the labels in order or random?\".  Answers to questions like these will help you preprocess the data and end up with better predictions."
   ]
  },
  {
   "cell_type": "code",
   "execution_count": 2,
   "metadata": {
    "collapsed": false
   },
   "outputs": [
    {
     "name": "stdout",
     "output_type": "stream",
     "text": [
      "\n",
      "Stats of batch 1:\n",
      "Samples: 10000\n",
      "Label Counts: {0: 1005, 1: 974, 2: 1032, 3: 1016, 4: 999, 5: 937, 6: 1030, 7: 1001, 8: 1025, 9: 981}\n",
      "First 20 Labels: [6, 9, 9, 4, 1, 1, 2, 7, 8, 3, 4, 7, 7, 2, 9, 9, 9, 3, 2, 6]\n",
      "\n",
      "Example of Image 8:\n",
      "Image - Min Value: 8 Max Value: 252\n",
      "Image - Shape: (32, 32, 3)\n",
      "Label - Label Id: 8 Name: ship\n"
     ]
    },
    {
     "data": {
      "image/png": "[encoded data removed]",
      "text/plain": [
       "<matplotlib.figure.Figure at 0x7f52a6bb2b00>"
      ]
     },
     "metadata": {
      "image/png": {
       "height": 250,
       "width": 253
      }
     },
     "output_type": "display_data"
    }
   ],
   "source": [
    "%matplotlib inline\n",
    "%config InlineBackend.figure_format = 'retina'\n",
    "\n",
    "import helper\n",
    "import numpy as np\n",
    "\n",
    "# Explore the dataset\n",
    "batch_id = 1\n",
    "sample_id = 8\n",
    "helper.display_stats(cifar10_dataset_folder_path, batch_id, sample_id)"
   ]
  },
  {
   "cell_type": "markdown",
   "metadata": {},
   "source": [
    "## Implement Preprocess Functions\n",
    "### Normalize\n",
    "In the cell below, implement the `normalize` function to take in image data, `x`, and return it as a normalized Numpy array. The values should be in the range of 0 to 1, inclusive.  The return object should be the same shape as `x`."
   ]
  },
  {
   "cell_type": "code",
   "execution_count": 3,
   "metadata": {
    "collapsed": false
   },
   "outputs": [
    {
     "name": "stdout",
     "output_type": "stream",
     "text": [
      "Tests Passed\n"
     ]
    }
   ],
   "source": [
    "def normalize(x):\n",
    "    \"\"\"\n",
    "    Normalize a list of sample image data in the range of 0 to 1\n",
    "    : x: List of image data.  The image shape is (32, 32, 3)\n",
    "    : return: Numpy array of normalize data\n",
    "    \"\"\"\n",
    "    xarr = np.array(x)\n",
    "    return xarr / np.max(xarr)\n",
    "\n",
    "\n",
    "\"\"\"\n",
    "DON'T MODIFY ANYTHING IN THIS CELL THAT IS BELOW THIS LINE\n",
    "\"\"\"\n",
    "tests.test_normalize(normalize)"
   ]
  },
  {
   "cell_type": "markdown",
   "metadata": {},
   "source": [
    "### One-hot encode\n",
    "Just like the previous code cell, you'll be implementing a function for preprocessing.  This time, you'll implement the `one_hot_encode` function. The input, `x`, are a list of labels.  Implement the function to return the list of labels as One-Hot encoded Numpy array.  The possible values for labels are 0 to 9. The one-hot encoding function should return the same encoding for each value between each call to `one_hot_encode`.  Make sure to save the map of encodings outside the function.\n",
    "\n",
    "Hint: Don't reinvent the wheel."
   ]
  },
  {
   "cell_type": "code",
   "execution_count": 4,
   "metadata": {
    "collapsed": false
   },
   "outputs": [
    {
     "name": "stdout",
     "output_type": "stream",
     "text": [
      "Tests Passed\n"
     ]
    }
   ],
   "source": [
    "from sklearn.preprocessing import LabelBinarizer\n",
    "\n",
    "def one_hot_encode(x):\n",
    "    \"\"\"\n",
    "    One hot encode a list of sample labels. Return a one-hot encoded vector for each label.\n",
    "    : x: List of sample Labels\n",
    "    : return: Numpy array of one-hot encoded labels\n",
    "    \"\"\"\n",
    "    lb = LabelBinarizer()\n",
    "    lb.fit(range(10))\n",
    "    return lb.transform(x)\n",
    "\n",
    "\"\"\"\n",
    "DON'T MODIFY ANYTHING IN THIS CELL THAT IS BELOW THIS LINE\n",
    "\"\"\"\n",
    "tests.test_one_hot_encode(one_hot_encode)"
   ]
  },
  {
   "cell_type": "markdown",
   "metadata": {},
   "source": [
    "### Randomize Data\n",
    "As you saw from exploring the data above, the order of the samples are randomized.  It doesn't hurt to randomize it again, but you don't need to for this dataset."
   ]
  },
  {
   "cell_type": "markdown",
   "metadata": {},
   "source": [
    "## Preprocess all the data and save it\n",
    "Running the code cell below will preprocess all the CIFAR-10 data and save it to file. The code below also uses 10% of the training data for validation."
   ]
  },
  {
   "cell_type": "code",
   "execution_count": 5,
   "metadata": {
    "collapsed": false
   },
   "outputs": [],
   "source": [
    "\"\"\"\n",
    "DON'T MODIFY ANYTHING IN THIS CELL\n",
    "\"\"\"\n",
    "# Preprocess Training, Validation, and Testing Data\n",
    "helper.preprocess_and_save_data(cifar10_dataset_folder_path, normalize, one_hot_encode)"
   ]
  },
  {
   "cell_type": "markdown",
   "metadata": {},
   "source": [
    "# Check Point\n",
    "This is your first checkpoint.  If you ever decide to come back to this notebook or have to restart the notebook, you can start from here.  The preprocessed data has been saved to disk."
   ]
  },
  {
   "cell_type": "code",
   "execution_count": 6,
   "metadata": {
    "collapsed": true
   },
   "outputs": [],
   "source": [
    "\"\"\"\n",
    "DON'T MODIFY ANYTHING IN THIS CELL\n",
    "\"\"\"\n",
    "import pickle\n",
    "import problem_unittests as tests\n",
    "import helper\n",
    "\n",
    "# Load the Preprocessed Validation data\n",
    "valid_features, valid_labels = pickle.load(open('preprocess_validation.p', mode='rb'))"
   ]
  },
  {
   "cell_type": "markdown",
   "metadata": {},
   "source": [
    "## Build the network\n",
    "For the neural network, you'll build each layer into a function.  Most of the code you've seen has been outside of functions. To test your code more thoroughly, we require that you put each layer in a function.  This allows us to give you better feedback and test for simple mistakes using our unittests before you submit your project.\n",
    "\n",
    "If you're finding it hard to dedicate enough time for this course a week, we've provided a small shortcut to this part of the project. In the next couple of problems, you'll have the option to use [TensorFlow Layers](https://www.tensorflow.org/api_docs/python/tf/layers) or [TensorFlow Layers (contrib)](https://www.tensorflow.org/api_guides/python/contrib.layers) to build each layer, except \"Convolutional & Max Pooling\" layer.  TF Layers is similar to Keras's and TFLearn's abstraction to layers, so it's easy to pickup.\n",
    "\n",
    "If you would like to get the most of this course, try to solve all the problems without TF Layers.  Let's begin!\n",
    "### Input\n",
    "The neural network needs to read the image data, one-hot encoded labels, and dropout keep probability. Implement the following functions\n",
    "* Implement `neural_net_image_input`\n",
    " * Return a [TF Placeholder](https://www.tensorflow.org/api_docs/python/tf/placeholder)\n",
    " * Set the shape using `image_shape` with batch size set to `None`.\n",
    " * Name the TensorFlow placeholder \"x\" using the TensorFlow `name` parameter in the [TF Placeholder](https://www.tensorflow.org/api_docs/python/tf/placeholder).\n",
    "* Implement `neural_net_label_input`\n",
    " * Return a [TF Placeholder](https://www.tensorflow.org/api_docs/python/tf/placeholder)\n",
    " * Set the shape using `n_classes` with batch size set to `None`.\n",
    " * Name the TensorFlow placeholder \"y\" using the TensorFlow `name` parameter in the [TF Placeholder](https://www.tensorflow.org/api_docs/python/tf/placeholder).\n",
    "* Implement `neural_net_keep_prob_input`\n",
    " * Return a [TF Placeholder](https://www.tensorflow.org/api_docs/python/tf/placeholder) for dropout keep probability.\n",
    " * Name the TensorFlow placeholder \"keep_prob\" using the TensorFlow `name` parameter in the [TF Placeholder](https://www.tensorflow.org/api_docs/python/tf/placeholder).\n",
    "\n",
    "These names will be used at the end of the project to load your saved model.\n",
    "\n",
    "Note: `None` for shapes in TensorFlow allow for a dynamic size."
   ]
  },
  {
   "cell_type": "code",
   "execution_count": 7,
   "metadata": {
    "collapsed": false
   },
   "outputs": [
    {
     "name": "stdout",
     "output_type": "stream",
     "text": [
      "Image Input Tests Passed.\n",
      "Label Input Tests Passed.\n",
      "Keep Prob Tests Passed.\n"
     ]
    }
   ],
   "source": [
    "import tensorflow as tf\n",
    "\n",
    "def neural_net_image_input(image_shape):\n",
    "    \"\"\"\n",
    "    Return a Tensor for a bach of image input\n",
    "    : image_shape: Shape of the images\n",
    "    : return: Tensor for image input.\n",
    "    \"\"\"\n",
    "    return tf.placeholder(tf.float32, [None] + list(image_shape), name='x')\n",
    "\n",
    "\n",
    "def neural_net_label_input(n_classes):\n",
    "    \"\"\"\n",
    "    Return a Tensor for a batch of label input\n",
    "    : n_classes: Number of classes\n",
    "    : return: Tensor for label input.\n",
    "    \"\"\"\n",
    "    return tf.placeholder(tf.int16, [None, n_classes], name='y')\n",
    "\n",
    "\n",
    "def neural_net_keep_prob_input():\n",
    "    \"\"\"\n",
    "    Return a Tensor for keep probability\n",
    "    : return: Tensor for keep probability.\n",
    "    \"\"\"\n",
    "    return tf.placeholder(tf.float32, name='keep_prob')\n",
    "\n",
    "\n",
    "\"\"\"\n",
    "DON'T MODIFY ANYTHING IN THIS CELL THAT IS BELOW THIS LINE\n",
    "\"\"\"\n",
    "tf.reset_default_graph()\n",
    "tests.test_nn_image_inputs(neural_net_image_input)\n",
    "tests.test_nn_label_inputs(neural_net_label_input)\n",
    "tests.test_nn_keep_prob_inputs(neural_net_keep_prob_input)"
   ]
  },
  {
   "cell_type": "markdown",
   "metadata": {},
   "source": [
    "### Convolution and Max Pooling Layer\n",
    "Convolution layers have a lot of success with images. For this code cell, you should implement the function `conv2d_maxpool` to apply convolution then max pooling:\n",
    "* Create the weight and bias using `conv_ksize`, `conv_num_outputs` and the shape of `x_tensor`.\n",
    "* Apply a convolution to `x_tensor` using weight and `conv_strides`.\n",
    " * We recommend you use same padding, but you're welcome to use any padding.\n",
    "* Add bias\n",
    "* Add a nonlinear activation to the convolution.\n",
    "* Apply Max Pooling using `pool_ksize` and `pool_strides`.\n",
    " * We recommend you use same padding, but you're welcome to use any padding.\n",
    "\n",
    "Note: You **can't** use [TensorFlow Layers](https://www.tensorflow.org/api_docs/python/tf/layers) or [TensorFlow Layers (contrib)](https://www.tensorflow.org/api_guides/python/contrib.layers) for this layer.  You're free to use any TensorFlow package for all the other layers."
   ]
  },
  {
   "cell_type": "code",
   "execution_count": 8,
   "metadata": {
    "collapsed": false
   },
   "outputs": [
    {
     "name": "stdout",
     "output_type": "stream",
     "text": [
      "Tests Passed\n"
     ]
    }
   ],
   "source": [
    "def conv2d_maxpool(x_tensor, conv_num_outputs, conv_ksize, conv_strides, pool_ksize, pool_strides):\n",
    "    \"\"\"\n",
    "    Apply convolution then max pooling to x_tensor\n",
    "    :param x_tensor: TensorFlow Tensor\n",
    "    :param conv_num_outputs: Number of outputs for the convolutional layer\n",
    "    :param conv_strides: Stride 2-D Tuple for convolution\n",
    "    :param pool_ksize: kernal size 2-D Tuple for pool\n",
    "    :param pool_strides: Stride 2-D Tuple for pool\n",
    "    : return: A tensor that represents convolution and max pooling of x_tensor\n",
    "    \"\"\"\n",
    "    \n",
    "    def to4d(tuple2d):\n",
    "        return [1] + list(tuple2d) + [1]\n",
    "    \n",
    "    input_depth = x_tensor.shape[3].value\n",
    "    \n",
    "    weights = tf.Variable(tf.truncated_normal((conv_ksize[0], conv_ksize[1], input_depth, conv_num_outputs), stddev=0.1))\n",
    "    biases = tf.Variable(tf.zeros(conv_num_outputs))\n",
    "    \n",
    "    layer = tf.nn.conv2d(x_tensor, weights, to4d(conv_strides), padding='SAME')\n",
    "    layer = tf.nn.bias_add(layer, biases)\n",
    "    layer = tf.nn.relu(layer)\n",
    "    layer = tf.nn.max_pool(layer, to4d(pool_ksize), to4d(pool_strides), padding='SAME')\n",
    "    \n",
    "    return layer\n",
    "\n",
    "\n",
    "\"\"\"\n",
    "DON'T MODIFY ANYTHING IN THIS CELL THAT IS BELOW THIS LINE\n",
    "\"\"\"\n",
    "tests.test_con_pool(conv2d_maxpool)"
   ]
  },
  {
   "cell_type": "markdown",
   "metadata": {},
   "source": [
    "### Flatten Layer\n",
    "Implement the `flatten` function to change the dimension of `x_tensor` from a 4-D tensor to a 2-D tensor.  The output should be the shape (*Batch Size*, *Flattened Image Size*). You can use [TensorFlow Layers](https://www.tensorflow.org/api_docs/python/tf/layers) or [TensorFlow Layers (contrib)](https://www.tensorflow.org/api_guides/python/contrib.layers) for this layer."
   ]
  },
  {
   "cell_type": "code",
   "execution_count": 9,
   "metadata": {
    "collapsed": false
   },
   "outputs": [
    {
     "name": "stdout",
     "output_type": "stream",
     "text": [
      "Tests Passed\n"
     ]
    }
   ],
   "source": [
    "def flatten(x_tensor):\n",
    "    \"\"\"\n",
    "    Flatten x_tensor to (Batch Size, Flattened Image Size)\n",
    "    : x_tensor: A tensor of size (Batch Size, ...), where ... are the image dimensions.\n",
    "    : return: A tensor of size (Batch Size, Flattened Image Size).\n",
    "    \"\"\"\n",
    "    return tf.contrib.layers.flatten(x_tensor)\n",
    "\n",
    "\n",
    "\"\"\"\n",
    "DON'T MODIFY ANYTHING IN THIS CELL THAT IS BELOW THIS LINE\n",
    "\"\"\"\n",
    "tests.test_flatten(flatten)"
   ]
  },
  {
   "cell_type": "markdown",
   "metadata": {},
   "source": [
    "### Fully-Connected Layer\n",
    "Implement the `fully_conn` function to apply a fully connected layer to `x_tensor` with the shape (*Batch Size*, *num_outputs*). You can use [TensorFlow Layers](https://www.tensorflow.org/api_docs/python/tf/layers) or [TensorFlow Layers (contrib)](https://www.tensorflow.org/api_guides/python/contrib.layers) for this layer."
   ]
  },
  {
   "cell_type": "code",
   "execution_count": 10,
   "metadata": {
    "collapsed": false
   },
   "outputs": [
    {
     "name": "stdout",
     "output_type": "stream",
     "text": [
      "Tests Passed\n"
     ]
    }
   ],
   "source": [
    "def fully_conn(x_tensor, num_outputs):\n",
    "    \"\"\"\n",
    "    Apply a fully connected layer to x_tensor using weight and bias\n",
    "    : x_tensor: A 2-D tensor where the first dimension is batch size.\n",
    "    : num_outputs: The number of output that the new tensor should be.\n",
    "    : return: A 2-D tensor where the second dimension is num_outputs.\n",
    "    \"\"\"\n",
    "    layer = tf.contrib.layers.fully_connected(x_tensor, num_outputs)\n",
    "    layer = tf.nn.relu(layer)\n",
    "    return layer\n",
    "\n",
    "\n",
    "\"\"\"\n",
    "DON'T MODIFY ANYTHING IN THIS CELL THAT IS BELOW THIS LINE\n",
    "\"\"\"\n",
    "tests.test_fully_conn(fully_conn)"
   ]
  },
  {
   "cell_type": "markdown",
   "metadata": {},
   "source": [
    "### Output Layer\n",
    "Implement the `output` function to apply a fully connected layer to `x_tensor` with the shape (*Batch Size*, *num_outputs*). You can use [TensorFlow Layers](https://www.tensorflow.org/api_docs/python/tf/layers) or [TensorFlow Layers (contrib)](https://www.tensorflow.org/api_guides/python/contrib.layers) for this layer.\n",
    "\n",
    "Note: Activation, softmax, or cross entropy shouldn't be applied to this."
   ]
  },
  {
   "cell_type": "code",
   "execution_count": 11,
   "metadata": {
    "collapsed": false
   },
   "outputs": [
    {
     "name": "stdout",
     "output_type": "stream",
     "text": [
      "Tests Passed\n"
     ]
    }
   ],
   "source": [
    "def output(x_tensor, num_outputs):\n",
    "    \"\"\"\n",
    "    Apply a output layer to x_tensor using weight and bias\n",
    "    : x_tensor: A 2-D tensor where the first dimension is batch size.\n",
    "    : num_outputs: The number of output that the new tensor should be.\n",
    "    : return: A 2-D tensor where the second dimension is num_outputs.\n",
    "    \"\"\"\n",
    "    layer = tf.contrib.layers.fully_connected(x_tensor, num_outputs)\n",
    "\n",
    "    return layer\n",
    "\n",
    "\n",
    "\"\"\"\n",
    "DON'T MODIFY ANYTHING IN THIS CELL THAT IS BELOW THIS LINE\n",
    "\"\"\"\n",
    "tests.test_output(output)"
   ]
  },
  {
   "cell_type": "markdown",
   "metadata": {},
   "source": [
    "### Create Convolutional Model\n",
    "Implement the function `conv_net` to create a convolutional neural network model. The function takes in a batch of images, `x`, and outputs logits.  Use the layers you created above to create this model:\n",
    "\n",
    "* Apply 1, 2, or 3 Convolution and Max Pool layers\n",
    "* Apply a Flatten Layer\n",
    "* Apply 1, 2, or 3 Fully Connected Layers\n",
    "* Apply an Output Layer\n",
    "* Return the output\n",
    "* Apply [TensorFlow's Dropout](https://www.tensorflow.org/api_docs/python/tf/nn/dropout) to one or more layers in the model using `keep_prob`. "
   ]
  },
  {
   "cell_type": "code",
   "execution_count": 98,
   "metadata": {
    "collapsed": true
   },
   "outputs": [],
   "source": [
    "class SmallModel(object):\n",
    "    conv_params = [\n",
    "        {'conv_num_outputs': 10, \n",
    "         'conv_ksize': (16, 16),\n",
    "         'conv_strides': (1, 1),\n",
    "         'pool_ksize': (1, 1),\n",
    "         'pool_strides': (1, 1)},\n",
    "    ]\n",
    "    fc_sizes = [32]\n",
    "\n",
    "class ShallowModel1(object):\n",
    "    conv_params = [\n",
    "        {'conv_num_outputs': 32, \n",
    "         'conv_ksize': (16, 16),\n",
    "         'conv_strides': (1, 1),\n",
    "         'pool_ksize': (1, 1),\n",
    "         'pool_strides': (1, 1)},\n",
    "    ]\n",
    "    fc_sizes = [64]\n",
    "\n",
    "class MediumModel1(object):\n",
    "    conv_params = [\n",
    "        {'conv_num_outputs': 32, \n",
    "         'conv_ksize': (16, 16),\n",
    "         'conv_strides': (1, 1),\n",
    "         'pool_ksize': (1, 1),\n",
    "         'pool_strides': (1, 1)},\n",
    "    ]\n",
    "    fc_sizes = [64, 32]\n",
    "\n",
    "class MediumModel2(object):\n",
    "    conv_params = [\n",
    "        {'conv_num_outputs': 64, \n",
    "         'conv_ksize': (10, 10),\n",
    "         'conv_strides': (1, 1),\n",
    "         'pool_ksize': (3, 3),\n",
    "         'pool_strides': (2, 2)},\n",
    "        {'conv_num_outputs': 64, \n",
    "         'conv_ksize': (8, 8),\n",
    "         'conv_strides': (1, 1),\n",
    "         'pool_ksize': (2, 2),\n",
    "         'pool_strides': (1, 1)},\n",
    "    ]\n",
    "    fc_sizes = [384, 192]\n",
    "\n",
    "class TutorialModel(object):\n",
    "    conv_params = [\n",
    "        {'conv_num_outputs': 64, \n",
    "         'conv_ksize': (5, 5),\n",
    "         'conv_strides': (1, 1),\n",
    "         'pool_ksize': (3, 3),\n",
    "         'pool_strides': (2, 2)},\n",
    "        {'conv_num_outputs': 64, \n",
    "         'conv_ksize': (5, 5),\n",
    "         'conv_strides': (1, 1),\n",
    "         'pool_ksize': (3, 3),\n",
    "         'pool_strides': (2, 2)},\n",
    "    ]\n",
    "    fc_sizes = [384, 192]\n"
   ]
  },
  {
   "cell_type": "code",
   "execution_count": 99,
   "metadata": {
    "collapsed": false
   },
   "outputs": [
    {
     "name": "stdout",
     "output_type": "stream",
     "text": [
      "Neural Network Built!\n"
     ]
    }
   ],
   "source": [
    "def conv_net(x, keep_prob, arch=MediumModel2):\n",
    "    \"\"\"\n",
    "    Create a convolutional neural network model\n",
    "    : x: Placeholder tensor that holds image data.\n",
    "    : keep_prob: Placeholder tensor that hold dropout keep probability.\n",
    "    : return: Tensor that represents logits\n",
    "    \"\"\"\n",
    "    \n",
    "    num_conv_layers = len(arch.conv_params)\n",
    "    num_fc_layers = len(arch.fc_sizes)\n",
    "        \n",
    "    # Apply 1, 2, or 3 Convolution and Max Pool layers\n",
    "    #    Play around with different number of outputs, kernel size and stride\n",
    "    # Function Definition from Above:\n",
    "    #    conv2d_maxpool(x_tensor, conv_num_outputs, conv_ksize, conv_strides, pool_ksize, pool_strides)\n",
    "    \n",
    "    result = x\n",
    "    \n",
    "    for i in range(num_conv_layers):\n",
    "        with tf.variable_scope(\"conv%d\" % i):\n",
    "            p = arch.conv_params[i]\n",
    "            result = conv2d_maxpool(result, \n",
    "                                    p['conv_num_outputs'], \n",
    "                                    p['conv_ksize'],\n",
    "                                    p['conv_strides'],\n",
    "                                    p['pool_ksize'],\n",
    "                                    p['pool_strides'])\n",
    "    \n",
    "\n",
    "    # Apply a Flatten Layer\n",
    "    # Function Definition from Above:\n",
    "    #   flatten(x_tensor)\n",
    "    \n",
    "    result = flatten(result)\n",
    "\n",
    "    # Apply 1, 2, or 3 Fully Connected Layers\n",
    "    #    Play around with different number of outputs\n",
    "    # Function Definition from Above:\n",
    "    #   fully_conn(x_tensor, num_outputs)\n",
    "    for i in range(num_fc_layers):\n",
    "        with tf.variable_scope(\"fc%d\" % i):\n",
    "            result = fully_conn(result, arch.fc_sizes[i])\n",
    "            result = tf.nn.dropout(result, keep_prob)\n",
    "    \n",
    "    # Apply an Output Layer\n",
    "    #    Set this to the number of classes\n",
    "    # Function Definition from Above:\n",
    "    #   output(x_tensor, num_outputs)\n",
    "    with tf.variable_scope(\"output\"):\n",
    "        result = output(result, 10)\n",
    "    \n",
    "    # return output\n",
    "    return result\n",
    "\n",
    "\n",
    "\"\"\"\n",
    "DON'T MODIFY ANYTHING IN THIS CELL THAT IS BELOW THIS LINE\n",
    "\"\"\"\n",
    "\n",
    "##############################\n",
    "## Build the Neural Network ##\n",
    "##############################\n",
    "\n",
    "# Remove previous weights, bias, inputs, etc..\n",
    "tf.reset_default_graph()\n",
    "\n",
    "# Inputs\n",
    "x = neural_net_image_input((32, 32, 3))\n",
    "y = neural_net_label_input(10)\n",
    "keep_prob = neural_net_keep_prob_input()\n",
    "\n",
    "# Model\n",
    "logits = conv_net(x, keep_prob)\n",
    "\n",
    "# Name logits Tensor, so that is can be loaded from disk after training\n",
    "logits = tf.identity(logits, name='logits')\n",
    "\n",
    "# Loss and Optimizer\n",
    "cost = tf.reduce_mean(tf.nn.softmax_cross_entropy_with_logits(logits=logits, labels=y))\n",
    "optimizer = tf.train.AdamOptimizer().minimize(cost)\n",
    "\n",
    "# Accuracy\n",
    "correct_pred = tf.equal(tf.argmax(logits, 1), tf.argmax(y, 1))\n",
    "accuracy = tf.reduce_mean(tf.cast(correct_pred, tf.float32), name='accuracy')\n",
    "\n",
    "tests.test_conv_net(conv_net)"
   ]
  },
  {
   "cell_type": "markdown",
   "metadata": {},
   "source": [
    "## Train the Neural Network\n",
    "### Single Optimization\n",
    "Implement the function `train_neural_network` to do a single optimization.  The optimization should use `optimizer` to optimize in `session` with a `feed_dict` of the following:\n",
    "* `x` for image input\n",
    "* `y` for labels\n",
    "* `keep_prob` for keep probability for dropout\n",
    "\n",
    "This function will be called for each batch, so `tf.global_variables_initializer()` has already been called.\n",
    "\n",
    "Note: Nothing needs to be returned. This function is only optimizing the neural network."
   ]
  },
  {
   "cell_type": "code",
   "execution_count": 100,
   "metadata": {
    "collapsed": false
   },
   "outputs": [
    {
     "name": "stdout",
     "output_type": "stream",
     "text": [
      "Tests Passed\n"
     ]
    }
   ],
   "source": [
    "def train_neural_network(session, optimizer, keep_probability, feature_batch, label_batch):\n",
    "    \"\"\"\n",
    "    Optimize the session on a batch of images and labels\n",
    "    : session: Current TensorFlow session\n",
    "    : optimizer: TensorFlow optimizer function\n",
    "    : keep_probability: keep probability\n",
    "    : feature_batch: Batch of Numpy image data\n",
    "    : label_batch: Batch of Numpy label data\n",
    "    \"\"\"\n",
    "    session.run(optimizer, feed_dict={x: feature_batch, y: label_batch, keep_prob: keep_probability})\n",
    "\n",
    "\n",
    "\"\"\"\n",
    "DON'T MODIFY ANYTHING IN THIS CELL THAT IS BELOW THIS LINE\n",
    "\"\"\"\n",
    "tests.test_train_nn(train_neural_network)"
   ]
  },
  {
   "cell_type": "markdown",
   "metadata": {},
   "source": [
    "### Show Stats\n",
    "Implement the function `print_stats` to print loss and validation accuracy.  Use the global variables `valid_features` and `valid_labels` to calculate validation accuracy.  Use a keep probability of `1.0` to calculate the loss and validation accuracy."
   ]
  },
  {
   "cell_type": "code",
   "execution_count": 101,
   "metadata": {
    "collapsed": false
   },
   "outputs": [],
   "source": [
    "def print_stats(session, feature_batch, label_batch, cost, accuracy, val_mode='full'):\n",
    "    \"\"\"\n",
    "    Print information about loss and validation accuracy\n",
    "    : session: Current TensorFlow session\n",
    "    : feature_batch: Batch of Numpy image data\n",
    "    : label_batch: Batch of Numpy label data\n",
    "    : cost: TensorFlow cost function\n",
    "    : accuracy: TensorFlow accuracy function\n",
    "    \"\"\"\n",
    "    val_batch_size = feature_batch.shape[0] # need to limit the number of validation examples for larger models\n",
    "    train_acc_result, train_cost_result = session.run([accuracy, cost], feed_dict={\n",
    "        x: feature_batch, \n",
    "        y: label_batch, \n",
    "        keep_prob: 1.0})\n",
    "    \n",
    "    val_acc_lst = []\n",
    "    val_cost_lst = []\n",
    "    val_num_batches = 0\n",
    "    batch_starts = [0] if val_mode == 'sample' else range(0, len(valid_features), val_batch_size)\n",
    "    for batch_start in batch_starts:\n",
    "        val_feature_batch = valid_features[batch_start:batch_start+val_batch_size]\n",
    "        val_label_batch = valid_labels[batch_start:batch_start+val_batch_size]\n",
    "        val_acc_result, val_cost_result = session.run([accuracy, cost], feed_dict={\n",
    "            x: val_feature_batch, \n",
    "            y: val_label_batch, \n",
    "            keep_prob: 1.0})\n",
    "        val_acc_lst.append(val_acc_result)\n",
    "        val_cost_lst.append(val_cost_result)\n",
    "        val_num_batches += 1\n",
    "    val_acc_avg = sum(val_acc_lst) / val_num_batches\n",
    "    val_cost_avg = sum(val_cost_lst) / val_num_batches\n",
    "    \n",
    "    print(\"train acc: {:f}, cost: {:f} / val acc: {:f}, cost: {:f}\".format(\n",
    "        train_acc_result, train_cost_result,\n",
    "        val_acc_avg, val_cost_avg))\n",
    "    "
   ]
  },
  {
   "cell_type": "markdown",
   "metadata": {},
   "source": [
    "### Hyperparameters\n",
    "Tune the following parameters:\n",
    "* Set `epochs` to the number of iterations until the network stops learning or start overfitting\n",
    "* Set `batch_size` to the highest number that your machine has memory for.  Most people set them to common sizes of memory:\n",
    " * 64\n",
    " * 128\n",
    " * 256\n",
    " * ...\n",
    "* Set `keep_probability` to the probability of keeping a node using dropout"
   ]
  },
  {
   "cell_type": "code",
   "execution_count": 104,
   "metadata": {
    "collapsed": true
   },
   "outputs": [],
   "source": [
    "epochs = 20\n",
    "batch_size = 512\n",
    "keep_probability = 0.5"
   ]
  },
  {
   "cell_type": "markdown",
   "metadata": {},
   "source": [
    "### Train on a Single CIFAR-10 Batch\n",
    "Instead of training the neural network on all the CIFAR-10 batches of data, let's use a single batch. This should save time while you iterate on the model to get a better accuracy.  Once the final validation accuracy is 50% or greater, run the model on all the data in the next section."
   ]
  },
  {
   "cell_type": "code",
   "execution_count": 103,
   "metadata": {
    "collapsed": false
   },
   "outputs": [
    {
     "name": "stdout",
     "output_type": "stream",
     "text": [
      "Checking the Training on a Single Batch...\n",
      "Epoch  1, CIFAR-10 Batch 1:  train acc: 0.108108, cost: 2.302585 / val acc: 0.104730, cost: 2.302585\n",
      "Epoch  2, CIFAR-10 Batch 1:  train acc: 0.108108, cost: 2.298467 / val acc: 0.104730, cost: 2.293291\n",
      "Epoch  3, CIFAR-10 Batch 1:  train acc: 0.145270, cost: 2.264071 / val acc: 0.118243, cost: 2.281602\n",
      "Epoch  4, CIFAR-10 Batch 1:  train acc: 0.155405, cost: 2.222459 / val acc: 0.135135, cost: 2.237322\n",
      "Epoch  5, CIFAR-10 Batch 1:  train acc: 0.168919, cost: 2.208334 / val acc: 0.128378, cost: 2.209658\n",
      "Epoch  6, CIFAR-10 Batch 1:  train acc: 0.206081, cost: 2.163121 / val acc: 0.182432, cost: 2.160151\n",
      "Epoch  7, CIFAR-10 Batch 1:  train acc: 0.263514, cost: 2.121376 / val acc: 0.219595, cost: 2.108696\n",
      "Epoch  8, CIFAR-10 Batch 1:  train acc: 0.324324, cost: 1.996043 / val acc: 0.260135, cost: 2.005088\n",
      "Epoch  9, CIFAR-10 Batch 1:  train acc: 0.341216, cost: 1.896679 / val acc: 0.236487, cost: 1.978078\n",
      "Epoch 10, CIFAR-10 Batch 1:  train acc: 0.385135, cost: 1.742057 / val acc: 0.331081, cost: 1.820114\n",
      "Epoch 11, CIFAR-10 Batch 1:  train acc: 0.425676, cost: 1.650933 / val acc: 0.364865, cost: 1.787899\n",
      "Epoch 12, CIFAR-10 Batch 1:  train acc: 0.500000, cost: 1.572703 / val acc: 0.415541, cost: 1.662337\n",
      "Epoch 13, CIFAR-10 Batch 1:  train acc: 0.489865, cost: 1.534973 / val acc: 0.395270, cost: 1.685714\n",
      "Epoch 14, CIFAR-10 Batch 1:  train acc: 0.554054, cost: 1.402740 / val acc: 0.425676, cost: 1.595470\n",
      "Epoch 15, CIFAR-10 Batch 1:  train acc: 0.621622, cost: 1.294428 / val acc: 0.459459, cost: 1.506265\n",
      "Epoch 16, CIFAR-10 Batch 1:  train acc: 0.618243, cost: 1.246334 / val acc: 0.439189, cost: 1.574518\n",
      "Epoch 17, CIFAR-10 Batch 1:  train acc: 0.631757, cost: 1.168350 / val acc: 0.442568, cost: 1.515343\n",
      "Epoch 18, CIFAR-10 Batch 1:  train acc: 0.652027, cost: 1.074412 / val acc: 0.449324, cost: 1.492432\n",
      "Epoch 19, CIFAR-10 Batch 1:  train acc: 0.652027, cost: 1.062932 / val acc: 0.429054, cost: 1.550987\n",
      "Epoch 20, CIFAR-10 Batch 1:  train acc: 0.706081, cost: 0.976885 / val acc: 0.459460, cost: 1.489758\n",
      "Epoch 21, CIFAR-10 Batch 1:  train acc: 0.709459, cost: 0.907833 / val acc: 0.459459, cost: 1.462027\n",
      "Epoch 22, CIFAR-10 Batch 1:  train acc: 0.746622, cost: 0.856325 / val acc: 0.493243, cost: 1.471289\n",
      "Epoch 23, CIFAR-10 Batch 1:  train acc: 0.739865, cost: 0.809680 / val acc: 0.466216, cost: 1.490829\n",
      "Epoch 24, CIFAR-10 Batch 1:  train acc: 0.804054, cost: 0.710516 / val acc: 0.466216, cost: 1.526706\n",
      "Epoch 25, CIFAR-10 Batch 1:  train acc: 0.800676, cost: 0.702528 / val acc: 0.489865, cost: 1.510244\n",
      "Epoch 26, CIFAR-10 Batch 1:  train acc: 0.820946, cost: 0.648518 / val acc: 0.479730, cost: 1.504370\n",
      "Epoch 27, CIFAR-10 Batch 1:  train acc: 0.841216, cost: 0.583738 / val acc: 0.503378, cost: 1.524536\n",
      "Epoch 28, CIFAR-10 Batch 1:  train acc: 0.824324, cost: 0.598273 / val acc: 0.472973, cost: 1.529115\n",
      "Epoch 29, CIFAR-10 Batch 1:  train acc: 0.847973, cost: 0.533932 / val acc: 0.483108, cost: 1.507107\n",
      "Epoch 30, CIFAR-10 Batch 1:  train acc: 0.847973, cost: 0.492807 / val acc: 0.489865, cost: 1.569092\n",
      "Epoch 31, CIFAR-10 Batch 1:  train acc: 0.891892, cost: 0.440119 / val acc: 0.523649, cost: 1.532015\n",
      "Epoch 32, CIFAR-10 Batch 1:  train acc: 0.895270, cost: 0.381697 / val acc: 0.513514, cost: 1.516907\n",
      "Epoch 33, CIFAR-10 Batch 1:  train acc: 0.888514, cost: 0.425035 / val acc: 0.489865, cost: 1.650638\n",
      "Epoch 34, CIFAR-10 Batch 1:  train acc: 0.891892, cost: 0.370015 / val acc: 0.530405, cost: 1.543046\n",
      "Epoch 35, CIFAR-10 Batch 1:  train acc: 0.942568, cost: 0.329014 / val acc: 0.510135, cost: 1.615602\n",
      "Epoch 36, CIFAR-10 Batch 1:  train acc: 0.929054, cost: 0.284014 / val acc: 0.500000, cost: 1.664786\n",
      "Epoch 37, CIFAR-10 Batch 1:  train acc: 0.945946, cost: 0.231654 / val acc: 0.520270, cost: 1.652998\n",
      "Epoch 38, CIFAR-10 Batch 1:  train acc: 0.932432, cost: 0.218987 / val acc: 0.533784, cost: 1.627973\n",
      "Epoch 39, CIFAR-10 Batch 1:  train acc: 0.952703, cost: 0.191047 / val acc: 0.483108, cost: 1.793320\n",
      "Epoch 40, CIFAR-10 Batch 1:  train acc: 0.956081, cost: 0.179095 / val acc: 0.486486, cost: 1.681298\n",
      "Epoch 41, CIFAR-10 Batch 1:  train acc: 0.952703, cost: 0.163907 / val acc: 0.550676, cost: 1.625701\n",
      "Epoch 42, CIFAR-10 Batch 1:  train acc: 0.986487, cost: 0.116818 / val acc: 0.523649, cost: 1.845121\n",
      "Epoch 43, CIFAR-10 Batch 1:  train acc: 0.976351, cost: 0.149972 / val acc: 0.500000, cost: 1.898903\n",
      "Epoch 44, CIFAR-10 Batch 1:  train acc: 0.989865, cost: 0.116514 / val acc: 0.510135, cost: 1.928069\n",
      "Epoch 45, CIFAR-10 Batch 1:  train acc: 0.979730, cost: 0.136902 / val acc: 0.489865, cost: 2.023723\n",
      "Epoch 46, CIFAR-10 Batch 1:  train acc: 0.986487, cost: 0.103504 / val acc: 0.506757, cost: 1.995288\n",
      "Epoch 47, CIFAR-10 Batch 1:  train acc: 0.989865, cost: 0.099198 / val acc: 0.503378, cost: 1.952092\n",
      "Epoch 48, CIFAR-10 Batch 1:  train acc: 0.972973, cost: 0.105956 / val acc: 0.527027, cost: 1.785552\n",
      "Epoch 49, CIFAR-10 Batch 1:  train acc: 0.983108, cost: 0.086512 / val acc: 0.530405, cost: 1.872900\n",
      "Epoch 50, CIFAR-10 Batch 1:  train acc: 0.986487, cost: 0.085618 / val acc: 0.554054, cost: 1.909263\n"
     ]
    }
   ],
   "source": [
    "\"\"\"\n",
    "DON'T MODIFY ANYTHING IN THIS CELL\n",
    "\"\"\"\n",
    "print('Checking the Training on a Single Batch...')\n",
    "with tf.Session() as sess:\n",
    "    # Initializing the variables\n",
    "    sess.run(tf.global_variables_initializer())\n",
    "    \n",
    "    # Training cycle\n",
    "    for epoch in range(epochs):\n",
    "        batch_i = 1\n",
    "        for batch_features, batch_labels in helper.load_preprocess_training_batch(batch_i, batch_size):\n",
    "            train_neural_network(sess, optimizer, keep_probability, batch_features, batch_labels)\n",
    "        print('Epoch {:>2}, CIFAR-10 Batch {}:  '.format(epoch + 1, batch_i), end='')\n",
    "        print_stats(sess, batch_features, batch_labels, cost, accuracy, val_mode='sample')"
   ]
  },
  {
   "cell_type": "markdown",
   "metadata": {},
   "source": [
    "### Fully Train the Model\n",
    "Now that you got a good accuracy with a single CIFAR-10 batch, try it with all five batches."
   ]
  },
  {
   "cell_type": "code",
   "execution_count": 105,
   "metadata": {
    "collapsed": false
   },
   "outputs": [
    {
     "name": "stdout",
     "output_type": "stream",
     "text": [
      "Training...\n",
      "Epoch  1, CIFAR-10 Batch 1:  train acc: 0.108108, cost: 2.302585 / val acc: 0.097515, cost: 2.302585\n",
      "Epoch  1, CIFAR-10 Batch 2:  train acc: 0.121622, cost: 2.302534 / val acc: 0.097515, cost: 2.302585\n",
      "Epoch  1, CIFAR-10 Batch 3:  train acc: 0.141892, cost: 2.263109 / val acc: 0.140694, cost: 2.256744\n",
      "Epoch  1, CIFAR-10 Batch 4:  train acc: 0.212838, cost: 2.172434 / val acc: 0.174242, cost: 2.202109\n",
      "Epoch  1, CIFAR-10 Batch 5:  train acc: 0.270270, cost: 2.082551 / val acc: 0.258937, cost: 2.120075\n",
      "Epoch  2, CIFAR-10 Batch 1:  train acc: 0.270270, cost: 2.104359 / val acc: 0.274281, cost: 2.078081\n",
      "Epoch  2, CIFAR-10 Batch 2:  train acc: 0.277027, cost: 2.004691 / val acc: 0.250542, cost: 2.084170\n",
      "Epoch  2, CIFAR-10 Batch 3:  train acc: 0.371622, cost: 1.855965 / val acc: 0.342752, cost: 1.879958\n",
      "Epoch  2, CIFAR-10 Batch 4:  train acc: 0.375000, cost: 1.674232 / val acc: 0.360740, cost: 1.773396\n",
      "Epoch  2, CIFAR-10 Batch 5:  train acc: 0.385135, cost: 1.707373 / val acc: 0.362667, cost: 1.749935\n",
      "Epoch  3, CIFAR-10 Batch 1:  train acc: 0.371622, cost: 1.770717 / val acc: 0.386592, cost: 1.758616\n",
      "Epoch  3, CIFAR-10 Batch 2:  train acc: 0.462838, cost: 1.549850 / val acc: 0.430999, cost: 1.604246\n",
      "Epoch  3, CIFAR-10 Batch 3:  train acc: 0.476351, cost: 1.541886 / val acc: 0.424146, cost: 1.586700\n",
      "Epoch  3, CIFAR-10 Batch 4:  train acc: 0.500000, cost: 1.467063 / val acc: 0.446398, cost: 1.576240\n",
      "Epoch  3, CIFAR-10 Batch 5:  train acc: 0.530405, cost: 1.453011 / val acc: 0.434594, cost: 1.542023\n",
      "Epoch  4, CIFAR-10 Batch 1:  train acc: 0.435811, cost: 1.547044 / val acc: 0.450770, cost: 1.533777\n",
      "Epoch  4, CIFAR-10 Batch 2:  train acc: 0.493243, cost: 1.407890 / val acc: 0.439298, cost: 1.509839\n",
      "Epoch  4, CIFAR-10 Batch 3:  train acc: 0.496622, cost: 1.372791 / val acc: 0.450673, cost: 1.482503\n",
      "Epoch  4, CIFAR-10 Batch 4:  train acc: 0.520270, cost: 1.322493 / val acc: 0.491280, cost: 1.427853\n",
      "Epoch  4, CIFAR-10 Batch 5:  train acc: 0.581081, cost: 1.289700 / val acc: 0.489913, cost: 1.401608\n",
      "Epoch  5, CIFAR-10 Batch 1:  train acc: 0.486486, cost: 1.454459 / val acc: 0.494695, cost: 1.395050\n",
      "Epoch  5, CIFAR-10 Batch 2:  train acc: 0.594595, cost: 1.217485 / val acc: 0.516609, cost: 1.355998\n",
      "Epoch  5, CIFAR-10 Batch 3:  train acc: 0.557432, cost: 1.227184 / val acc: 0.504288, cost: 1.355415\n",
      "Epoch  5, CIFAR-10 Batch 4:  train acc: 0.577703, cost: 1.151429 / val acc: 0.521029, cost: 1.335930\n",
      "Epoch  5, CIFAR-10 Batch 5:  train acc: 0.621622, cost: 1.139995 / val acc: 0.524709, cost: 1.303416\n",
      "Epoch  6, CIFAR-10 Batch 1:  train acc: 0.570946, cost: 1.286085 / val acc: 0.519168, cost: 1.321601\n",
      "Epoch  6, CIFAR-10 Batch 2:  train acc: 0.604730, cost: 1.157286 / val acc: 0.531212, cost: 1.314898\n",
      "Epoch  6, CIFAR-10 Batch 3:  train acc: 0.631757, cost: 1.090015 / val acc: 0.541570, cost: 1.267613\n",
      "Epoch  6, CIFAR-10 Batch 4:  train acc: 0.641892, cost: 1.077777 / val acc: 0.542269, cost: 1.282936\n",
      "Epoch  6, CIFAR-10 Batch 5:  train acc: 0.628378, cost: 1.122770 / val acc: 0.537572, cost: 1.297776\n",
      "Epoch  7, CIFAR-10 Batch 1:  train acc: 0.513514, cost: 1.298069 / val acc: 0.513706, cost: 1.357748\n",
      "Epoch  7, CIFAR-10 Batch 2:  train acc: 0.594595, cost: 1.117306 / val acc: 0.542462, cost: 1.275268\n",
      "Epoch  7, CIFAR-10 Batch 3:  train acc: 0.621622, cost: 1.041451 / val acc: 0.551477, cost: 1.240990\n",
      "Epoch  7, CIFAR-10 Batch 4:  train acc: 0.645270, cost: 0.980855 / val acc: 0.560865, cost: 1.238130\n",
      "Epoch  7, CIFAR-10 Batch 5:  train acc: 0.648649, cost: 1.027794 / val acc: 0.558709, cost: 1.231100\n",
      "Epoch  8, CIFAR-10 Batch 1:  train acc: 0.631757, cost: 1.120877 / val acc: 0.564767, cost: 1.218663\n",
      "Epoch  8, CIFAR-10 Batch 2:  train acc: 0.618243, cost: 1.037942 / val acc: 0.550110, cost: 1.281078\n",
      "Epoch  8, CIFAR-10 Batch 3:  train acc: 0.675676, cost: 1.012356 / val acc: 0.559552, cost: 1.219071\n",
      "Epoch  8, CIFAR-10 Batch 4:  train acc: 0.675676, cost: 0.921356 / val acc: 0.569434, cost: 1.214335\n",
      "Epoch  8, CIFAR-10 Batch 5:  train acc: 0.679054, cost: 0.928461 / val acc: 0.582352, cost: 1.185210\n",
      "Epoch  9, CIFAR-10 Batch 1:  train acc: 0.641892, cost: 1.032650 / val acc: 0.571428, cost: 1.188419\n",
      "Epoch  9, CIFAR-10 Batch 2:  train acc: 0.695946, cost: 0.886931 / val acc: 0.586694, cost: 1.176500\n",
      "Epoch  9, CIFAR-10 Batch 3:  train acc: 0.706081, cost: 0.898830 / val acc: 0.583839, cost: 1.164560\n",
      "Epoch  9, CIFAR-10 Batch 4:  train acc: 0.729730, cost: 0.780222 / val acc: 0.590199, cost: 1.140505\n",
      "Epoch  9, CIFAR-10 Batch 5:  train acc: 0.709460, cost: 0.835878 / val acc: 0.588115, cost: 1.152944\n",
      "Epoch 10, CIFAR-10 Batch 1:  train acc: 0.679054, cost: 0.947369 / val acc: 0.580587, cost: 1.194964\n",
      "Epoch 10, CIFAR-10 Batch 2:  train acc: 0.679054, cost: 0.893166 / val acc: 0.581581, cost: 1.178693\n",
      "Epoch 10, CIFAR-10 Batch 3:  train acc: 0.702703, cost: 0.826943 / val acc: 0.599412, cost: 1.135241\n",
      "Epoch 10, CIFAR-10 Batch 4:  train acc: 0.773649, cost: 0.731298 / val acc: 0.607410, cost: 1.125375\n",
      "Epoch 10, CIFAR-10 Batch 5:  train acc: 0.706081, cost: 0.801764 / val acc: 0.597082, cost: 1.132592\n",
      "Epoch 11, CIFAR-10 Batch 1:  train acc: 0.706081, cost: 0.893056 / val acc: 0.589506, cost: 1.153673\n",
      "Epoch 11, CIFAR-10 Batch 2:  train acc: 0.716216, cost: 0.802162 / val acc: 0.587790, cost: 1.179096\n",
      "Epoch 11, CIFAR-10 Batch 3:  train acc: 0.719595, cost: 0.794446 / val acc: 0.600382, cost: 1.133764\n",
      "Epoch 11, CIFAR-10 Batch 4:  train acc: 0.746622, cost: 0.718916 / val acc: 0.597154, cost: 1.132482\n",
      "Epoch 11, CIFAR-10 Batch 5:  train acc: 0.736487, cost: 0.745021 / val acc: 0.599864, cost: 1.141302\n",
      "Epoch 12, CIFAR-10 Batch 1:  train acc: 0.756757, cost: 0.794298 / val acc: 0.601454, cost: 1.126167\n",
      "Epoch 12, CIFAR-10 Batch 2:  train acc: 0.702703, cost: 0.761168 / val acc: 0.580039, cost: 1.221787\n",
      "Epoch 12, CIFAR-10 Batch 3:  train acc: 0.766892, cost: 0.708468 / val acc: 0.604627, cost: 1.127275\n",
      "Epoch 12, CIFAR-10 Batch 4:  train acc: 0.787162, cost: 0.626354 / val acc: 0.615208, cost: 1.095255\n",
      "Epoch 12, CIFAR-10 Batch 5:  train acc: 0.777027, cost: 0.685213 / val acc: 0.609644, cost: 1.124959\n",
      "Epoch 13, CIFAR-10 Batch 1:  train acc: 0.756757, cost: 0.734078 / val acc: 0.614389, cost: 1.115729\n",
      "Epoch 13, CIFAR-10 Batch 2:  train acc: 0.753378, cost: 0.713575 / val acc: 0.610138, cost: 1.125567\n",
      "Epoch 13, CIFAR-10 Batch 3:  train acc: 0.790541, cost: 0.652357 / val acc: 0.619062, cost: 1.092871\n",
      "Epoch 13, CIFAR-10 Batch 4:  train acc: 0.800676, cost: 0.583939 / val acc: 0.614269, cost: 1.087698\n",
      "Epoch 13, CIFAR-10 Batch 5:  train acc: 0.766892, cost: 0.618766 / val acc: 0.618165, cost: 1.100100\n",
      "Epoch 14, CIFAR-10 Batch 1:  train acc: 0.797297, cost: 0.658270 / val acc: 0.622140, cost: 1.095122\n",
      "Epoch 14, CIFAR-10 Batch 2:  train acc: 0.750000, cost: 0.697516 / val acc: 0.594619, cost: 1.161042\n",
      "Epoch 14, CIFAR-10 Batch 3:  train acc: 0.804054, cost: 0.612165 / val acc: 0.614919, cost: 1.105192\n",
      "Epoch 14, CIFAR-10 Batch 4:  train acc: 0.834459, cost: 0.563313 / val acc: 0.610270, cost: 1.109313\n",
      "Epoch 14, CIFAR-10 Batch 5:  train acc: 0.800676, cost: 0.576422 / val acc: 0.623603, cost: 1.089142\n",
      "Epoch 15, CIFAR-10 Batch 1:  train acc: 0.810811, cost: 0.622370 / val acc: 0.625542, cost: 1.087236\n",
      "Epoch 15, CIFAR-10 Batch 2:  train acc: 0.777027, cost: 0.613349 / val acc: 0.606687, cost: 1.122474\n",
      "Epoch 15, CIFAR-10 Batch 3:  train acc: 0.810811, cost: 0.578353 / val acc: 0.621345, cost: 1.107040\n",
      "Epoch 15, CIFAR-10 Batch 4:  train acc: 0.827703, cost: 0.541404 / val acc: 0.624006, cost: 1.087199\n",
      "Epoch 15, CIFAR-10 Batch 5:  train acc: 0.793919, cost: 0.590601 / val acc: 0.636623, cost: 1.082603\n",
      "Epoch 16, CIFAR-10 Batch 1:  train acc: 0.834459, cost: 0.557764 / val acc: 0.627306, cost: 1.098978\n",
      "Epoch 16, CIFAR-10 Batch 2:  train acc: 0.807432, cost: 0.584005 / val acc: 0.610517, cost: 1.137539\n",
      "Epoch 16, CIFAR-10 Batch 3:  train acc: 0.824324, cost: 0.536202 / val acc: 0.619827, cost: 1.100620\n",
      "Epoch 16, CIFAR-10 Batch 4:  train acc: 0.837838, cost: 0.509217 / val acc: 0.621766, cost: 1.088391\n",
      "Epoch 16, CIFAR-10 Batch 5:  train acc: 0.841216, cost: 0.510075 / val acc: 0.636791, cost: 1.065619\n",
      "Epoch 17, CIFAR-10 Batch 1:  train acc: 0.837838, cost: 0.550487 / val acc: 0.619731, cost: 1.159460\n",
      "Epoch 17, CIFAR-10 Batch 2:  train acc: 0.820946, cost: 0.523111 / val acc: 0.608993, cost: 1.133957\n",
      "Epoch 17, CIFAR-10 Batch 3:  train acc: 0.831081, cost: 0.511450 / val acc: 0.624904, cost: 1.115048\n",
      "Epoch 17, CIFAR-10 Batch 4:  train acc: 0.878378, cost: 0.447513 / val acc: 0.630318, cost: 1.077721\n",
      "Epoch 17, CIFAR-10 Batch 5:  train acc: 0.861486, cost: 0.475082 / val acc: 0.635003, cost: 1.088880\n",
      "Epoch 18, CIFAR-10 Batch 1:  train acc: 0.871622, cost: 0.456867 / val acc: 0.634057, cost: 1.094574\n",
      "Epoch 18, CIFAR-10 Batch 2:  train acc: 0.817568, cost: 0.521081 / val acc: 0.611408, cost: 1.131259\n",
      "Epoch 18, CIFAR-10 Batch 3:  train acc: 0.847973, cost: 0.478611 / val acc: 0.632648, cost: 1.097272\n",
      "Epoch 18, CIFAR-10 Batch 4:  train acc: 0.885135, cost: 0.411010 / val acc: 0.614118, cost: 1.115475\n",
      "Epoch 18, CIFAR-10 Batch 5:  train acc: 0.881757, cost: 0.442714 / val acc: 0.627752, cost: 1.125857\n",
      "Epoch 19, CIFAR-10 Batch 1:  train acc: 0.861487, cost: 0.446129 / val acc: 0.634358, cost: 1.085506\n",
      "Epoch 19, CIFAR-10 Batch 2:  train acc: 0.841216, cost: 0.488811 / val acc: 0.610138, cost: 1.146763\n",
      "Epoch 19, CIFAR-10 Batch 3:  train acc: 0.871622, cost: 0.426953 / val acc: 0.629914, cost: 1.115905\n",
      "Epoch 19, CIFAR-10 Batch 4:  train acc: 0.888514, cost: 0.390727 / val acc: 0.621423, cost: 1.113084\n",
      "Epoch 19, CIFAR-10 Batch 5:  train acc: 0.891892, cost: 0.372280 / val acc: 0.634154, cost: 1.100496\n",
      "Epoch 20, CIFAR-10 Batch 1:  train acc: 0.888514, cost: 0.410050 / val acc: 0.635743, cost: 1.090782\n",
      "Epoch 20, CIFAR-10 Batch 2:  train acc: 0.878378, cost: 0.443522 / val acc: 0.626313, cost: 1.115428\n",
      "Epoch 20, CIFAR-10 Batch 3:  train acc: 0.875000, cost: 0.419616 / val acc: 0.629986, cost: 1.116130\n",
      "Epoch 20, CIFAR-10 Batch 4:  train acc: 0.885135, cost: 0.374655 / val acc: 0.621074, cost: 1.138484\n",
      "Epoch 20, CIFAR-10 Batch 5:  train acc: 0.908784, cost: 0.379417 / val acc: 0.632817, cost: 1.111070\n"
     ]
    }
   ],
   "source": [
    "\"\"\"\n",
    "DON'T MODIFY ANYTHING IN THIS CELL\n",
    "\"\"\"\n",
    "save_model_path = './image_classification'\n",
    "\n",
    "print('Training...')\n",
    "with tf.Session() as sess:\n",
    "    # Initializing the variables\n",
    "    sess.run(tf.global_variables_initializer())\n",
    "    \n",
    "    # Training cycle\n",
    "    for epoch in range(epochs):\n",
    "        # Loop over all batches\n",
    "        n_batches = 5\n",
    "        for batch_i in range(1, n_batches + 1):\n",
    "            for batch_features, batch_labels in helper.load_preprocess_training_batch(batch_i, batch_size):\n",
    "                train_neural_network(sess, optimizer, keep_probability, batch_features, batch_labels)\n",
    "            print('Epoch {:>2}, CIFAR-10 Batch {}:  '.format(epoch + 1, batch_i), end='')\n",
    "            print_stats(sess, batch_features, batch_labels, cost, accuracy)\n",
    "            \n",
    "    # Save Model\n",
    "    saver = tf.train.Saver()\n",
    "    save_path = saver.save(sess, save_model_path)"
   ]
  },
  {
   "cell_type": "markdown",
   "metadata": {},
   "source": [
    "# Checkpoint\n",
    "The model has been saved to disk.\n",
    "## Test Model\n",
    "Test your model against the test dataset.  This will be your final accuracy. You should have an accuracy greater than 50%. If you don't, keep tweaking the model architecture and parameters."
   ]
  },
  {
   "cell_type": "code",
   "execution_count": 106,
   "metadata": {
    "collapsed": false
   },
   "outputs": [
    {
     "name": "stdout",
     "output_type": "stream",
     "text": [
      "Testing Accuracy: 0.6322093278169632\n",
      "\n"
     ]
    },
    {
     "data": {
      "image/png": "[encoded data removed]",
      "text/plain": [
       "<matplotlib.figure.Figure at 0x7f529d72ac50>"
      ]
     },
     "metadata": {
      "image/png": {
       "height": 319,
       "width": 355
      }
     },
     "output_type": "display_data"
    }
   ],
   "source": [
    "\"\"\"\n",
    "DON'T MODIFY ANYTHING IN THIS CELL\n",
    "\"\"\"\n",
    "%matplotlib inline\n",
    "%config InlineBackend.figure_format = 'retina'\n",
    "\n",
    "import tensorflow as tf\n",
    "import pickle\n",
    "import helper\n",
    "import random\n",
    "\n",
    "# Set batch size if not already set\n",
    "try:\n",
    "    if batch_size:\n",
    "        pass\n",
    "except NameError:\n",
    "    batch_size = 64\n",
    "\n",
    "save_model_path = './image_classification'\n",
    "n_samples = 4\n",
    "top_n_predictions = 3\n",
    "\n",
    "def test_model():\n",
    "    \"\"\"\n",
    "    Test the saved model against the test dataset\n",
    "    \"\"\"\n",
    "\n",
    "    test_features, test_labels = pickle.load(open('preprocess_training.p', mode='rb'))\n",
    "    loaded_graph = tf.Graph()\n",
    "\n",
    "    with tf.Session(graph=loaded_graph) as sess:\n",
    "        # Load model\n",
    "        loader = tf.train.import_meta_graph(save_model_path + '.meta')\n",
    "        loader.restore(sess, save_model_path)\n",
    "\n",
    "        # Get Tensors from loaded model\n",
    "        loaded_x = loaded_graph.get_tensor_by_name('x:0')\n",
    "        loaded_y = loaded_graph.get_tensor_by_name('y:0')\n",
    "        loaded_keep_prob = loaded_graph.get_tensor_by_name('keep_prob:0')\n",
    "        loaded_logits = loaded_graph.get_tensor_by_name('logits:0')\n",
    "        loaded_acc = loaded_graph.get_tensor_by_name('accuracy:0')\n",
    "        \n",
    "        # Get accuracy in batches for memory limitations\n",
    "        test_batch_acc_total = 0\n",
    "        test_batch_count = 0\n",
    "        \n",
    "        for train_feature_batch, train_label_batch in helper.batch_features_labels(test_features, test_labels, batch_size):\n",
    "            test_batch_acc_total += sess.run(\n",
    "                loaded_acc,\n",
    "                feed_dict={loaded_x: train_feature_batch, loaded_y: train_label_batch, loaded_keep_prob: 1.0})\n",
    "            test_batch_count += 1\n",
    "\n",
    "        print('Testing Accuracy: {}\\n'.format(test_batch_acc_total/test_batch_count))\n",
    "\n",
    "        # Print Random Samples\n",
    "        random_test_features, random_test_labels = tuple(zip(*random.sample(list(zip(test_features, test_labels)), n_samples)))\n",
    "        random_test_predictions = sess.run(\n",
    "            tf.nn.top_k(tf.nn.softmax(loaded_logits), top_n_predictions),\n",
    "            feed_dict={loaded_x: random_test_features, loaded_y: random_test_labels, loaded_keep_prob: 1.0})\n",
    "        helper.display_image_predictions(random_test_features, random_test_labels, random_test_predictions)\n",
    "\n",
    "\n",
    "test_model()"
   ]
  },
  {
   "cell_type": "markdown",
   "metadata": {},
   "source": [
    "## Why 50-70% Accuracy?\n",
    "You might be wondering why you can't get an accuracy any higher. First things first, 50% isn't bad for a simple CNN.  Pure guessing would get you 10% accuracy. However, you might notice people are getting scores [well above 70%](http://rodrigob.github.io/are_we_there_yet/build/classification_datasets_results.html#43494641522d3130).  That's because we haven't taught you all there is to know about neural networks. We still need to cover a few more techniques.\n",
    "## Submitting This Project\n",
    "When submitting this project, make sure to run all the cells before saving the notebook.  Save the notebook file as \"dlnd_image_classification.ipynb\" and save it as a HTML file under \"File\" -> \"Download as\".  Include the \"helper.py\" and \"problem_unittests.py\" files in your submission."
   ]
  }
 ],
 "metadata": {
  "kernelspec": {
   "display_name": "Python 3",
   "language": "python",
   "name": "python3"
  },
  "language_info": {
   "codemirror_mode": {
    "name": "ipython",
    "version": 3
   },
   "file_extension": ".py",
   "mimetype": "text/x-python",
   "name": "python",
   "nbconvert_exporter": "python",
   "pygments_lexer": "ipython3",
   "version": "3.5.2"
  }
 },
 "nbformat": 4,
 "nbformat_minor": 0
}
